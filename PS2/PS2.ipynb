{
 "cells": [
  {
   "cell_type": "code",
   "execution_count": 4,
   "id": "abe516e6",
   "metadata": {},
   "outputs": [],
   "source": [
    "# Imports\n",
    "import math\n",
    "import numpy as np\n",
    "import random"
   ]
  },
  {
   "cell_type": "code",
   "execution_count": null,
   "id": "4f737008",
   "metadata": {},
   "outputs": [],
   "source": [
    "# Collaborators: Azul and Kimberly"
   ]
  },
  {
   "cell_type": "code",
   "execution_count": 5,
   "id": "7b9b3ce2",
   "metadata": {},
   "outputs": [],
   "source": [
    "\"\"\"\n",
    "Problem 1\n",
    "\"\"\"\n",
    "\n",
    "# Functions:\n",
    "\n",
    "# Simpsons integral approximation\n",
    "\"\"\"\n",
    "This function takes the following imputs:\n",
    "f: the integrand\n",
    "x0: lower limit of integral\n",
    "xn: upper limit of integral\n",
    "n: number of different subintervals\n",
    "\n",
    "delta_x: the width of each subinterval\n",
    "\n",
    "This function uses parabolas to create an approximation of an integral\n",
    "\"\"\"\n",
    "def approximate_int_simpsons(f, x0, xn, n):\n",
    "    delta_x = (xn - x0) / n\n",
    "    simpsons_approx = 0\n",
    "    \n",
    "    for i in range(n):\n",
    "        xi = x0 + i * delta_x\n",
    "        xi1 = x0 + (i + 1) * delta_x\n",
    "        simpsons_approx += (f(xi) +  4*f((xi + xi1) / 2) + f(xi1)) * delta_x / 6\n",
    "        \n",
    "    return simpsons_approx\n",
    "\n",
    "# Fractional error\n",
    "\"\"\"\n",
    "This function calculates the fractional error between the true integral, and the one approximated by rectangular area approximation\n",
    "This is used to determine the accuracy of the simpsons integral approximation\n",
    "\"\"\"\n",
    "\n",
    "def fractional_error(true_integral, integral_approx):\n",
    "    return math.fabs(true_integral - integral_approx) / true_integral\n"
   ]
  },
  {
   "cell_type": "code",
   "execution_count": 6,
   "id": "1137897c",
   "metadata": {},
   "outputs": [
    {
     "data": {
      "text/plain": [
       "41.666666666666686"
      ]
     },
     "execution_count": 6,
     "metadata": {},
     "output_type": "execute_result"
    }
   ],
   "source": [
    "# Testing approximate_int_simpsons for x**2 from 0-5 with 100 steps\n",
    "ans1 = approximate_int_simpsons(lambda x: x**2, 0, 5, 100)\n",
    "ans1  "
   ]
  },
  {
   "cell_type": "code",
   "execution_count": null,
   "id": "ac719654",
   "metadata": {},
   "outputs": [],
   "source": [
    "\"\"\"\n",
    "Since the true integral is roughly 41.67, this approximation is remarkably close; implying that this function works\n",
    "\"\"\""
   ]
  },
  {
   "cell_type": "code",
   "execution_count": 7,
   "id": "ef9dc336",
   "metadata": {},
   "outputs": [
    {
     "data": {
      "text/plain": [
       "166666.66687500005"
      ]
     },
     "execution_count": 7,
     "metadata": {},
     "output_type": "execute_result"
    }
   ],
   "source": [
    "# Testing approximate_int_simpsons for x**5 from 0-10  with 100 steps\n",
    "approximate_int_simpsons(lambda x: x**5, 0, 10, 100)"
   ]
  },
  {
   "cell_type": "code",
   "execution_count": null,
   "id": "c08892cf",
   "metadata": {},
   "outputs": [],
   "source": [
    "\"\"\"\n",
    "True value is about 1.67e5, so this is very close: function works\n",
    "\"\"\" "
   ]
  },
  {
   "cell_type": "code",
   "execution_count": 8,
   "id": "364381cf",
   "metadata": {},
   "outputs": [
    {
     "data": {
      "text/plain": [
       "5.115907697472719e-16"
      ]
     },
     "execution_count": 8,
     "metadata": {},
     "output_type": "execute_result"
    }
   ],
   "source": [
    "# Testing fractional error for x**2 from 0-5  with 100 steps\n",
    "# 125/3 is the real answer\n",
    "fractional_error(ans1, 125/3)"
   ]
  },
  {
   "cell_type": "code",
   "execution_count": null,
   "id": "f4f17c8a",
   "metadata": {},
   "outputs": [],
   "source": [
    "\"\"\"\n",
    "This is the exact fractional error: fractional error is really small, shows that function works\n",
    "\"\"\""
   ]
  },
  {
   "cell_type": "code",
   "execution_count": 11,
   "id": "a34bd1bd",
   "metadata": {},
   "outputs": [
    {
     "name": "stdout",
     "output_type": "stream",
     "text": [
      "For n = 10, estimated integral = 1.0000002115465914\n",
      "For n = 1000, estimated integral = 1.000000000000002\n",
      "For n = 10000, estimated integral = 1.0000000000000004\n",
      "For n = 100000, estimated integral = 1.0000000000000004\n",
      "For n = 1000000, estimated integral = 0.9999999999999936\n"
     ]
    }
   ],
   "source": [
    "\"\"\"\n",
    "Calculating the integral of sin(x) from 0 to pi/2 using n values 10, 10e2, 10e3, 10e4, 10e5\n",
    "\"\"\"\n",
    "\n",
    "#Given n values used to calculate integral\n",
    "n_values = [10, 10e2, 10e3, 10e4, 10e5]\n",
    "\n",
    "for n in n_values:\n",
    "    n = int(n)\n",
    "    approximate_int = approximate_int_simpsons(lambda x: np.sin(x), 0, np.pi/2, n)\n",
    "    print(f\"For n = {n}, estimated integral = {approximate_int}\")"
   ]
  },
  {
   "cell_type": "code",
   "execution_count": 12,
   "id": "f5e0dd31",
   "metadata": {
    "scrolled": true
   },
   "outputs": [
    {
     "name": "stdout",
     "output_type": "stream",
     "text": [
      "For n = 10, estimated integral = 1.0000002115465914, fractional error = 2.12e-07\n",
      "For n = 1000, estimated integral = 1.000000000000002, fractional error = 2.00e-15\n",
      "For n = 10000, estimated integral = 1.0000000000000004, fractional error = 4.44e-16\n",
      "For n = 100000, estimated integral = 1.0000000000000004, fractional error = 4.44e-16\n",
      "For n = 1000000, estimated integral = 0.9999999999999936, fractional error = 6.44e-15\n"
     ]
    }
   ],
   "source": [
    "\"\"\"\n",
    "Calculating the fractional error of each n value. The true integral of sin(x) from 0 to pi/2 is 1.\n",
    "\"\"\"\n",
    "true_integral = 1\n",
    "\n",
    "for n in n_values:\n",
    "    n = int(n)\n",
    "    estimated_value = approximate_int_simpsons(lambda x: np.sin(x), 0, np.pi/2, n)\n",
    "    error = fractional_error(true_integral, estimated_value)\n",
    "    print(f\"For n = {n}, estimated integral = {estimated_value}, fractional error = {error:.2e}\")"
   ]
  },
  {
   "cell_type": "code",
   "execution_count": null,
   "id": "0c9da5e1",
   "metadata": {},
   "outputs": [],
   "source": [
    "\"\"\"\n",
    "Simpsons method has significantly less error compared to the rectangular approximation. It is a higher order approximation compared to the rectangular approximation.\n",
    "For the rectangular approximation, as n increases by 10, the fractional error decreases by a factor of 10, making it a first order scheme, while in the simpsons approximation,\n",
    "as n increases by 10, the error decreases by 10,000, making it a fourth order approximation.\n",
    "\"\"\""
   ]
  },
  {
   "cell_type": "code",
   "execution_count": 14,
   "id": "f5baf41c",
   "metadata": {},
   "outputs": [
    {
     "name": "stdout",
     "output_type": "stream",
     "text": [
      "0.9684272016510476\n"
     ]
    }
   ],
   "source": [
    "\"\"\"\n",
    "Problem 2\n",
    "I am solving F(p, |z|) for p = 0.2 and z = 0.9. This function has integrals in the numerator and denominator.\n",
    "I will be using the simpsons integral approximation in order to compute the integrals. \n",
    "\"\"\"\n",
    "# Given parameters\n",
    "p = 0.2\n",
    "z = 0.9\n",
    "calc_i = lambda r: 1\n",
    "\n",
    "# Delta function is within F(p, |z|)\n",
    "def delta_function(p, r, z):\n",
    "    if r >= z + p or r <= z -p:\n",
    "        return 0\n",
    "    elif r + z <= p:\n",
    "        return 1\n",
    "    else: \n",
    "        return math.pi**(-1)*math.acos((z**2 - p**2 + r**2)/(2*r*z))\n",
    "    \n",
    "# Function has an integral in both the numerator and denominator, so they will be computed indidual\n",
    "def integrand_numerator(r):\n",
    "    return calc_i(r)*(1 - delta_function(p, r, z))*2*r\n",
    "\n",
    "numerator = approximate_int_simpsons(integrand_numerator, 0, 1, 100)\n",
    "print(numerator)\n",
    "    "
   ]
  },
  {
   "cell_type": "code",
   "execution_count": 15,
   "id": "df6ac743",
   "metadata": {},
   "outputs": [
    {
     "name": "stdout",
     "output_type": "stream",
     "text": [
      "1.0\n"
     ]
    }
   ],
   "source": [
    "#Computation of the integral in the denominator\n",
    "def integrand_denominator(r):\n",
    "    return calc_i(r)*2*r\n",
    "\n",
    "denominator = approximate_int_simpsons(integrand_denominator, 0, 1, 100)\n",
    "print(denominator)"
   ]
  },
  {
   "cell_type": "code",
   "execution_count": 16,
   "id": "0ddb24f9",
   "metadata": {},
   "outputs": [
    {
     "name": "stdout",
     "output_type": "stream",
     "text": [
      "For n = 10, F(p, |z|) = 0.9687420048514388\n",
      "For n = 1000, F(p, |z|) = 0.9684173272303757\n",
      "For n = 10000, F(p, |z|) = 0.9684170151036687\n",
      "For n = 100000, F(p, |z|) = 0.9684170052337621\n",
      "For n = 1000000, F(p, |z|) = 0.9684170049216193\n"
     ]
    }
   ],
   "source": [
    "n_values = [10, 10e2, 10e3, 10e4, 10e5]\n",
    "\n",
    "for n in n_values:\n",
    "    n = int(n)\n",
    "    F_pz = approximate_int_simpsons(integrand_numerator, 0, 1, n)/approximate_int_simpsons(integrand_denominator, 0, 1, n)\n",
    "    print(f\"For n = {n}, F(p, |z|) = {F_pz}\")"
   ]
  },
  {
   "cell_type": "code",
   "execution_count": 17,
   "id": "ed95f4c9",
   "metadata": {},
   "outputs": [],
   "source": [
    "# Fractional error \n",
    "def fractional_error_Fpz(true_value, F_pz):\n",
    "    return math.fabs(true_value - F_pz) / true_value"
   ]
  },
  {
   "cell_type": "code",
   "execution_count": 18,
   "id": "66cd671d",
   "metadata": {},
   "outputs": [
    {
     "name": "stdout",
     "output_type": "stream",
     "text": [
      "0.9684170049114548\n"
     ]
    }
   ],
   "source": [
    "# Calculating the true value using analytic formula from PS1\n",
    "p = 0.2\n",
    "z = 0.9  \n",
    "    \n",
    "if 1 + p < z:\n",
    "    y = 1 - 0\n",
    "elif math.fabs(1-p) < z and z <= 1 + p:\n",
    "    a = math.acos((1-p**2+z**2)/(2*z))\n",
    "    b = math.acos((p**2+z**2-1)/(2*p*z))\n",
    "    y = 1 - ((1/math.pi)*(p**2*b+a-((4*z**2-(1+z**2-p**2)**2)/4)**0.5))\n",
    "elif z <= 1-p:\n",
    "    y = 1 - p**2\n",
    "elif z <= p-1:\n",
    "    y = 1 - 1 \n",
    "    \n",
    "print(y)"
   ]
  },
  {
   "cell_type": "code",
   "execution_count": 20,
   "id": "f01b3e0b",
   "metadata": {},
   "outputs": [
    {
     "name": "stdout",
     "output_type": "stream",
     "text": [
      "For n = 10, F(p, |z|) = 0.9687420048514388, fractional error = 3.356042401556623e-04\n",
      "For n = 1000, F(p, |z|) = 0.9684173272303757, fractional error = 3.379023454618840e-07\n",
      "For n = 10000, F(p, |z|) = 0.9684170151036687, fractional error = 1.559624496484381e-08\n",
      "For n = 100000, F(p, |z|) = 0.9684170052337621, fractional error = 5.404450861957375e-09\n",
      "For n = 1000000, F(p, |z|) = 0.9684170049216193, fractional error = 5.082128188886744e-09\n"
     ]
    }
   ],
   "source": [
    "# Fractional error \n",
    "true_value = 0.968417\n",
    "def fractional_error_Fpz(true_value, F_pz):\n",
    "    return math.fabs(true_value - F_pz) / true_value\n",
    "for n in n_values:\n",
    "    n = int(n)\n",
    "    F_pz = approximate_int_simpsons(integrand_numerator, 0, 1, n)/approximate_int_simpsons(integrand_denominator, 0, 1, n)\n",
    "    error_Fpz = fractional_error_Fpz(true_value, F_pz)\n",
    "    print(f\"For n = {n}, F(p, |z|) = {F_pz}, fractional error = {error_Fpz:.15e}\")"
   ]
  },
  {
   "cell_type": "code",
   "execution_count": null,
   "id": "a5180cf4",
   "metadata": {},
   "outputs": [],
   "source": [
    "\"\"\"\n",
    "As n increases, the fractional error decreases by a factor of roughly 10. \n",
    "\"\"\""
   ]
  },
  {
   "cell_type": "code",
   "execution_count": 21,
   "id": "9f019de2",
   "metadata": {},
   "outputs": [
    {
     "name": "stdout",
     "output_type": "stream",
     "text": [
      "For n = 10, Average of 100 F(p, z) = 0.9579126984126982, fractional error Monte Carlo = 1.084687855262945e-02\n",
      "For n = 1000.0, Average of 100 F(p, z) = 0.968540385251683, fractional error Monte Carlo = 1.274092169829564e-04\n",
      "For n = 10000.0, Average of 100 F(p, z) = 0.9686362500070622, fractional error Monte Carlo = 2.264004112507771e-04\n",
      "For n = 100000.0, Average of 100 F(p, z) = 0.9684007962559302, fractional error Monte Carlo = 1.673219704914585e-05\n",
      "For n = 1000000.0, Average of 100 F(p, z) = 0.968444004698492, fractional error Monte Carlo = 2.788540318069502e-05\n"
     ]
    }
   ],
   "source": [
    "# Problem 3\n",
    "# Monte Carlo Integration method\n",
    "\n",
    "def calc_F_pz(n):\n",
    "    n = int(n)\n",
    "    n1 = 0 # Accepted values\n",
    "    n2 = 0 # accepted values that also lie within the eclipsing planet disk\n",
    "\n",
    "    for _ in range (n):\n",
    "        x = random.uniform(-1, 1)\n",
    "        y = random.uniform(-1, 1)\n",
    "\n",
    "        if x**2 + y**2 <= 1:\n",
    "            n1 += 1\n",
    "            if (x - z)**2 + y**2 < p**2:\n",
    "                n2 += 1\n",
    "        \n",
    "    monte_carlo_F_pz = (n1 - n2)/n1\n",
    "    return monte_carlo_F_pz\n",
    "\n",
    "p = 0.2\n",
    "z = 0.9\n",
    "\n",
    "n_values = [10, 10e2, 10e3, 10e4, 10e5]\n",
    "\n",
    "for n in n_values:\n",
    "\n",
    "    sum_F_pz = 0\n",
    "    for _ in range(100):\n",
    "        sum_F_pz += calc_F_pz(n)\n",
    "    avg_F_pz = sum_F_pz/100\n",
    "\n",
    "    def fractional_error_monte_carlo(true_value, monte_carlo_F_pz):\n",
    "        return math.fabs(true_value - avg_F_pz) / true_value\n",
    "\n",
    "    print(f\"For n = {n}, Average of 100 F(p, z) = {avg_F_pz}, fractional error Monte Carlo = {fractional_error_monte_carlo(true_value, avg_F_pz):.15e}\")"
   ]
  },
  {
   "cell_type": "code",
   "execution_count": null,
   "id": "d577868f",
   "metadata": {},
   "outputs": [],
   "source": [
    "\"\"\"\n",
    "I found the overage of 100 trails in order to find a more accurate result. \n",
    "As n increases, the fractional error decreases by differing orders, but they are roughly 10,\n",
    "making this a first order approximation. The flux increases as accuracy increases.\n",
    "As n increases the error decreases, we can use this approximation for complex functions and get very good approximations\n",
    "\n",
    "\"\"\""
   ]
  }
 ],
 "metadata": {
  "kernelspec": {
   "display_name": "Python 3 (ipykernel)",
   "language": "python",
   "name": "python3"
  },
  "language_info": {
   "codemirror_mode": {
    "name": "ipython",
    "version": 3
   },
   "file_extension": ".py",
   "mimetype": "text/x-python",
   "name": "python",
   "nbconvert_exporter": "python",
   "pygments_lexer": "ipython3",
   "version": "3.9.13"
  }
 },
 "nbformat": 4,
 "nbformat_minor": 5
}
