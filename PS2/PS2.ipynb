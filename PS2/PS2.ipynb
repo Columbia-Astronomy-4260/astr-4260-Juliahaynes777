{
 "cells": [
  {
   "cell_type": "code",
   "execution_count": 37,
   "id": "61992dc6",
   "metadata": {},
   "outputs": [],
   "source": [
    "\"\"\"\n",
    "Problem 1\n",
    "\"\"\"\n",
    "\n",
    "# Functions:\n",
    "\n",
    "# Simpsons integral approximation\n",
    "\"\"\"\n",
    "This function takes the following imputs:\n",
    "f: the integrand\n",
    "x0: lower limit of integral\n",
    "xn: upper limit of integral\n",
    "n: number of different subintervals\n",
    "\n",
    "delta_x: the width of each subinterval\n",
    "\n",
    "This function uses parabolas to create an approximation of an integral\n",
    "\"\"\"\n",
    "def approximate_int_simpsons(f, x0, xn, n):\n",
    "    delta_x = (xn - x0) / n\n",
    "    simpsons_approx = 0\n",
    "    \n",
    "    for i in range(n):\n",
    "        xi = x0 + i * delta_x\n",
    "        xi1 = x0 + (i + 1) * delta_x\n",
    "        simpsons_approx += (f(xi) +  4*f((xi + xi1) / 2) + f(xi1)) * delta_x / 6\n",
    "        \n",
    "    return simpsons_approx\n",
    "\n",
    "# Fractional error\n",
    "\"\"\"\n",
    "This function calculates the fractional error between the true integral, and the one approximated by rectangular area approximation\n",
    "This is used to determine the accuracy of the simpsons integral approximation\n",
    "\"\"\"\n",
    "\n",
    "def fractional_error(true_integral, integral_approx):\n",
    "    return math.fabs(true_integral - integral_approx) / true_integral\n"
   ]
  },
  {
   "cell_type": "code",
   "execution_count": 30,
   "id": "338ef14f",
   "metadata": {},
   "outputs": [
    {
     "data": {
      "text/plain": [
       "41.666666666666686"
      ]
     },
     "execution_count": 30,
     "metadata": {},
     "output_type": "execute_result"
    }
   ],
   "source": [
    "# Testing approximate_int_simpsons for x**2 from 0-5 with 100 steps\n",
    "def f(x):\n",
    "    return x**2\n",
    "\n",
    "approximate_int_simpsons(f, 0, 5, 100)\n",
    "    "
   ]
  },
  {
   "cell_type": "code",
   "execution_count": null,
   "id": "ccc3400b",
   "metadata": {},
   "outputs": [],
   "source": [
    "\"\"\"\n",
    "Since the true integral is roughly 41.67, this approximation is remarkably close; implying that this function works\n",
    "\"\"\""
   ]
  },
  {
   "cell_type": "code",
   "execution_count": 31,
   "id": "450934d3",
   "metadata": {},
   "outputs": [
    {
     "data": {
      "text/plain": [
       "166666.66687500005"
      ]
     },
     "execution_count": 31,
     "metadata": {},
     "output_type": "execute_result"
    }
   ],
   "source": [
    "# Testing approximate_int_simpsons for x**5 from 0-10  with 100 steps\n",
    "\n",
    "def f(x):\n",
    "    return x**5\n",
    "\n",
    "approximate_int_simpsons(f, 0, 10, 100)"
   ]
  },
  {
   "cell_type": "code",
   "execution_count": null,
   "id": "6afee4df",
   "metadata": {},
   "outputs": [],
   "source": [
    "\"\"\"\n",
    "True value is about 1.67e5, so this is very close: function works\n",
    "\"\"\" "
   ]
  },
  {
   "cell_type": "code",
   "execution_count": 38,
   "id": "41c7b08c",
   "metadata": {},
   "outputs": [
    {
     "data": {
      "text/plain": [
       "0.013371394230769195"
      ]
     },
     "execution_count": 38,
     "metadata": {},
     "output_type": "execute_result"
    }
   ],
   "source": [
    "# Testing fractional error for x**2 from 0-5  with 100 steps\n",
    "\n",
    "fractional_error(41.6, 41.04375)"
   ]
  },
  {
   "cell_type": "code",
   "execution_count": null,
   "id": "62b20b88",
   "metadata": {},
   "outputs": [],
   "source": [
    "\"\"\"\n",
    "This is the exact fractional error: function works\n",
    "\"\"\""
   ]
  },
  {
   "cell_type": "code",
   "execution_count": 35,
   "id": "a34bd1bd",
   "metadata": {},
   "outputs": [
    {
     "name": "stdout",
     "output_type": "stream",
     "text": [
      "For n = 10, estimated integral = 1.0000002115465914\n",
      "For n = 100, estimated integral = 1.0000000000211395\n",
      "For n = 1000, estimated integral = 1.000000000000002\n",
      "For n = 10000, estimated integral = 1.0000000000000004\n",
      "For n = 100000, estimated integral = 1.0000000000000004\n"
     ]
    }
   ],
   "source": [
    "\"\"\"\n",
    "Calculating the integral of sin(x) from 0 to pi/2 using n values 10, 10e2, 10e3, 10e4, 10e5\n",
    "\"\"\"\n",
    "import math\n",
    "import numpy as np\n",
    "def f(x):\n",
    "    return np.sin(x)\n",
    "\n",
    "#Given n values used to calculate integral\n",
    "n_values = [10, 10**2, 10**3, 10**4, 10**5]\n",
    "\n",
    "for n in n_values:\n",
    "    approximate_int = approximate_int_simpsons(f, 0, np.pi/2, n)\n",
    "    print(f\"For n = {n}, estimated integral = {approximate_int}\")\n",
    "\n",
    "\n"
   ]
  },
  {
   "cell_type": "code",
   "execution_count": 43,
   "id": "8d202971",
   "metadata": {
    "scrolled": true
   },
   "outputs": [
    {
     "name": "stdout",
     "output_type": "stream",
     "text": [
      "For n = 10, estimated integral = 1.0000002115465914, fractional error = 2.12e-07\n",
      "For n = 100, estimated integral = 1.0000000000211395, fractional error = 2.11e-11\n",
      "For n = 1000, estimated integral = 1.000000000000002, fractional error = 2.00e-15\n",
      "For n = 10000, estimated integral = 1.0000000000000004, fractional error = 4.44e-16\n",
      "For n = 100000, estimated integral = 1.0000000000000004, fractional error = 4.44e-16\n"
     ]
    }
   ],
   "source": [
    "\"\"\"\n",
    "Calculating the fractional error of each n value. The true integral of sin(x) from 0 to pi/2 is 1.\n",
    "\"\"\"\n",
    "true_integral = 1\n",
    "\n",
    "for n in n_values:\n",
    "    estimated_value = approximate_int_simpsons(f, 0, np.pi/2, n)\n",
    "    error = fractional_error(true_integral, estimated_value)\n",
    "    print(f\"For n = {n}, estimated integral = {estimated_value}, fractional error = {error:.2e}\")"
   ]
  },
  {
   "cell_type": "code",
   "execution_count": null,
   "id": "9c952d61",
   "metadata": {},
   "outputs": [],
   "source": [
    "\"\"\"\n",
    "Simpsons method has significantly less error compared to the rectangular approximation. It is a higher order approximation compared to the rectangular approximation.\n",
    "For the rectangular approximation, as n increases by 10, the fractional error decreases by a factor of 10, making it a first order scheme, while in the simpsons approximation,\n",
    "as n increases by 10, the error decreases by 10,000, making it a fourth order approximation.\n",
    "\"\"\""
   ]
  }
 ],
 "metadata": {
  "kernelspec": {
   "display_name": "Python 3 (ipykernel)",
   "language": "python",
   "name": "python3"
  },
  "language_info": {
   "codemirror_mode": {
    "name": "ipython",
    "version": 3
   },
   "file_extension": ".py",
   "mimetype": "text/x-python",
   "name": "python",
   "nbconvert_exporter": "python",
   "pygments_lexer": "ipython3",
   "version": "3.9.13"
  }
 },
 "nbformat": 4,
 "nbformat_minor": 5
}
