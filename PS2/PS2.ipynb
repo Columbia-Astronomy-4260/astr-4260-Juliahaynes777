{
 "cells": [
  {
   "cell_type": "code",
   "execution_count": 37,
   "id": "0b97f8cc",
   "metadata": {},
   "outputs": [],
   "source": [
    "\"\"\"\n",
    "Problem 1\n",
    "\"\"\"\n",
    "\n",
    "# Functions:\n",
    "\n",
    "# Simpsons integral approximation\n",
    "\"\"\"\n",
    "This function takes the following imputs:\n",
    "f: the integrand\n",
    "x0: lower limit of integral\n",
    "xn: upper limit of integral\n",
    "n: number of different subintervals\n",
    "\n",
    "delta_x: the width of each subinterval\n",
    "\n",
    "This function uses parabolas to create an approximation of an integral\n",
    "\"\"\"\n",
    "def approximate_int_simpsons(f, x0, xn, n):\n",
    "    delta_x = (xn - x0) / n\n",
    "    simpsons_approx = 0\n",
    "    \n",
    "    for i in range(n):\n",
    "        xi = x0 + i * delta_x\n",
    "        xi1 = x0 + (i + 1) * delta_x\n",
    "        simpsons_approx += (f(xi) +  4*f((xi + xi1) / 2) + f(xi1)) * delta_x / 6\n",
    "        \n",
    "    return simpsons_approx\n",
    "\n",
    "# Fractional error\n",
    "\"\"\"\n",
    "This function calculates the fractional error between the true integral, and the one approximated by rectangular area approximation\n",
    "This is used to determine the accuracy of the simpsons integral approximation\n",
    "\"\"\"\n",
    "\n",
    "def fractional_error(true_integral, integral_approx):\n",
    "    return math.fabs(true_integral - integral_approx) / true_integral\n"
   ]
  },
  {
   "cell_type": "code",
   "execution_count": 30,
   "id": "8556f417",
   "metadata": {},
   "outputs": [
    {
     "data": {
      "text/plain": [
       "41.666666666666686"
      ]
     },
     "execution_count": 30,
     "metadata": {},
     "output_type": "execute_result"
    }
   ],
   "source": [
    "# Testing approximate_int_simpsons for x**2 from 0-5 with 100 steps\n",
    "def f(x):\n",
    "    return x**2\n",
    "\n",
    "approximate_int_simpsons(f, 0, 5, 100)\n",
    "    "
   ]
  },
  {
   "cell_type": "code",
   "execution_count": null,
   "id": "ab894f11",
   "metadata": {},
   "outputs": [],
   "source": [
    "\"\"\"\n",
    "Since the true integral is roughly 41.67, this approximation is remarkably close; implying that this function works\n",
    "\"\"\""
   ]
  },
  {
   "cell_type": "code",
   "execution_count": 31,
   "id": "ad0366e9",
   "metadata": {},
   "outputs": [
    {
     "data": {
      "text/plain": [
       "166666.66687500005"
      ]
     },
     "execution_count": 31,
     "metadata": {},
     "output_type": "execute_result"
    }
   ],
   "source": [
    "# Testing approximate_int_simpsons for x**5 from 0-10  with 100 steps\n",
    "\n",
    "def f(x):\n",
    "    return x**5\n",
    "\n",
    "approximate_int_simpsons(f, 0, 10, 100)"
   ]
  },
  {
   "cell_type": "code",
   "execution_count": null,
   "id": "e2c66db9",
   "metadata": {},
   "outputs": [],
   "source": [
    "\"\"\"\n",
    "True value is about 1.67e5, so this is very close: function works\n",
    "\"\"\" "
   ]
  },
  {
   "cell_type": "code",
   "execution_count": 38,
   "id": "abe36616",
   "metadata": {},
   "outputs": [
    {
     "data": {
      "text/plain": [
       "0.013371394230769195"
      ]
     },
     "execution_count": 38,
     "metadata": {},
     "output_type": "execute_result"
    }
   ],
   "source": [
    "# Testing fractional error for x**2 from 0-5  with 100 steps\n",
    "\n",
    "fractional_error(41.6, 41.04375)"
   ]
  },
  {
   "cell_type": "code",
   "execution_count": null,
   "id": "472b0f83",
   "metadata": {},
   "outputs": [],
   "source": [
    "\"\"\"\n",
    "This is the exact fractional error: function works\n",
    "\"\"\""
   ]
  },
  {
   "cell_type": "code",
   "execution_count": 35,
   "id": "a34bd1bd",
   "metadata": {},
   "outputs": [
    {
     "name": "stdout",
     "output_type": "stream",
     "text": [
      "For n = 10, estimated integral = 1.0000002115465914\n",
      "For n = 100, estimated integral = 1.0000000000211395\n",
      "For n = 1000, estimated integral = 1.000000000000002\n",
      "For n = 10000, estimated integral = 1.0000000000000004\n",
      "For n = 100000, estimated integral = 1.0000000000000004\n"
     ]
    }
   ],
   "source": [
    "\"\"\"\n",
    "Calculating the integral of sin(x) from 0 to pi/2 using n values 10, 10e2, 10e3, 10e4, 10e5\n",
    "\"\"\"\n",
    "import math\n",
    "import numpy as np\n",
    "def f(x):\n",
    "    return np.sin(x)\n",
    "\n",
    "#Given n values used to calculate integral\n",
    "n_values = [10, 10**2, 10**3, 10**4, 10**5]\n",
    "\n",
    "for n in n_values:\n",
    "    approximate_int = approximate_int_simpsons(f, 0, np.pi/2, n)\n",
    "    print(f\"For n = {n}, estimated integral = {approximate_int}\")\n",
    "\n",
    "\n"
   ]
  },
  {
   "cell_type": "code",
   "execution_count": 43,
   "id": "6826f576",
   "metadata": {
    "scrolled": true
   },
   "outputs": [
    {
     "name": "stdout",
     "output_type": "stream",
     "text": [
      "For n = 10, estimated integral = 1.0000002115465914, fractional error = 2.12e-07\n",
      "For n = 100, estimated integral = 1.0000000000211395, fractional error = 2.11e-11\n",
      "For n = 1000, estimated integral = 1.000000000000002, fractional error = 2.00e-15\n",
      "For n = 10000, estimated integral = 1.0000000000000004, fractional error = 4.44e-16\n",
      "For n = 100000, estimated integral = 1.0000000000000004, fractional error = 4.44e-16\n"
     ]
    }
   ],
   "source": [
    "\"\"\"\n",
    "Calculating the fractional error of each n value. The true integral of sin(x) from 0 to pi/2 is 1.\n",
    "\"\"\"\n",
    "true_integral = 1\n",
    "\n",
    "for n in n_values:\n",
    "    estimated_value = approximate_int_simpsons(f, 0, np.pi/2, n)\n",
    "    error = fractional_error(true_integral, estimated_value)\n",
    "    print(f\"For n = {n}, estimated integral = {estimated_value}, fractional error = {error:.2e}\")"
   ]
  },
  {
   "cell_type": "code",
   "execution_count": null,
   "id": "480c36d5",
   "metadata": {},
   "outputs": [],
   "source": [
    "\"\"\"\n",
    "Simpsons method has significantly less error compared to the rectangular approximation. It is a higher order approximation compared to the rectangular approximation.\n",
    "For the rectangular approximation, as n increases by 10, the fractional error decreases by a factor of 10, making it a first order scheme, while in the simpsons approximation,\n",
    "as n increases by 10, the error decreases by 10,000, making it a fourth order approximation.\n",
    "\"\"\""
   ]
  },
  {
   "cell_type": "code",
   "execution_count": 50,
   "id": "1d901074",
   "metadata": {},
   "outputs": [],
   "source": [
    "\"\"\"\n",
    "Problem 2\n",
    "I am solving F(p, |z|) for p = 0.2 and z = 0.9. This function has integrals in the numerator and denominator.\n",
    "I will be using the simpsons integral approximation in order to compute the integrals. \n",
    "\"\"\"\n",
    "# Given parameters\n",
    "p = 0.2\n",
    "z = 0.9\n",
    "def I(r):\n",
    "    return 1\n",
    "\n",
    "# Delta function is within F(p, |z|)\n",
    "def delta_function(p, r, z):\n",
    "    if r >= z + p or r <= z -p:\n",
    "        return 0\n",
    "    elif r + z <= p:\n",
    "        return 1\n",
    "    else: \n",
    "        return math.pi**(-1)*math.acos((z**2 - p**2 + r**2)/(2*r*z))\n",
    "    "
   ]
  },
  {
   "cell_type": "code",
   "execution_count": 61,
   "id": "65f09e7f",
   "metadata": {},
   "outputs": [
    {
     "name": "stdout",
     "output_type": "stream",
     "text": [
      "0.9684272016510476\n"
     ]
    }
   ],
   "source": [
    "# Function has an integral in both the numerator and denominator, so they will be computed indidually\n",
    "def integrand_numerator(r):\n",
    "    return I(r)*(1 - delta_function(p, r, z))*2*r\n",
    "\n",
    "numerator = approximate_int_simpsons(integrand_numerator, 0, 1, 100)\n",
    "print(numerator)"
   ]
  },
  {
   "cell_type": "code",
   "execution_count": 63,
   "id": "a05fbae4",
   "metadata": {},
   "outputs": [
    {
     "name": "stdout",
     "output_type": "stream",
     "text": [
      "1.0\n"
     ]
    }
   ],
   "source": [
    "#Computation of the integral in the denominator\n",
    "def integrand_denominator(r):\n",
    "    return I(r)*2*r\n",
    "\n",
    "denominator = approximate_int_simpsons(integrand_denominator, 0, 1, 100)\n",
    "print(denominator)"
   ]
  },
  {
   "cell_type": "code",
   "execution_count": 82,
   "id": "c7cf23bf",
   "metadata": {},
   "outputs": [
    {
     "name": "stdout",
     "output_type": "stream",
     "text": [
      "For n = 10, F(p, |z|) = 0.9687420048514388\n",
      "For n = 100, F(p, |z|) = 0.9684272016510476\n",
      "For n = 1000, F(p, |z|) = 0.9684173272303757\n",
      "For n = 10000, F(p, |z|) = 0.9684170151036687\n",
      "For n = 100000, F(p, |z|) = 0.9684170052337621\n"
     ]
    }
   ],
   "source": [
    "n_values = [10, 10**2, 10**3, 10**4, 10**5]\n",
    "\n",
    "for n in n_values:\n",
    "    F_pz = approximate_int_simpsons(integrand_numerator, 0, 1, n)/approximate_int_simpsons(integrand_denominator, 0, 1, n)\n",
    "    print(f\"For n = {n}, F(p, |z|) = {F_pz}\")\n"
   ]
  },
  {
   "cell_type": "code",
   "execution_count": 83,
   "id": "643ad773",
   "metadata": {},
   "outputs": [
    {
     "name": "stdout",
     "output_type": "stream",
     "text": [
      "For n = 10, F(p, |z|) = 0.9687420048514388\n"
     ]
    },
    {
     "ename": "TypeError",
     "evalue": "'float' object cannot be interpreted as an integer",
     "output_type": "error",
     "traceback": [
      "\u001b[1;31m---------------------------------------------------------------------------\u001b[0m",
      "\u001b[1;31mTypeError\u001b[0m                                 Traceback (most recent call last)",
      "\u001b[1;32m~\\AppData\\Local\\Temp\\ipykernel_10124\\150939981.py\u001b[0m in \u001b[0;36m<module>\u001b[1;34m\u001b[0m\n\u001b[0;32m      2\u001b[0m \u001b[1;33m\u001b[0m\u001b[0m\n\u001b[0;32m      3\u001b[0m \u001b[1;32mfor\u001b[0m \u001b[0mn\u001b[0m \u001b[1;32min\u001b[0m \u001b[0mn_values\u001b[0m\u001b[1;33m:\u001b[0m\u001b[1;33m\u001b[0m\u001b[1;33m\u001b[0m\u001b[0m\n\u001b[1;32m----> 4\u001b[1;33m     \u001b[0mF_pz\u001b[0m \u001b[1;33m=\u001b[0m \u001b[0mapproximate_int_simpsons\u001b[0m\u001b[1;33m(\u001b[0m\u001b[0mintegrand_numerator\u001b[0m\u001b[1;33m,\u001b[0m \u001b[1;36m0\u001b[0m\u001b[1;33m,\u001b[0m \u001b[1;36m1\u001b[0m\u001b[1;33m,\u001b[0m \u001b[0mn\u001b[0m\u001b[1;33m)\u001b[0m\u001b[1;33m/\u001b[0m\u001b[0mapproximate_int_simpsons\u001b[0m\u001b[1;33m(\u001b[0m\u001b[0mintegrand_denominator\u001b[0m\u001b[1;33m,\u001b[0m \u001b[1;36m0\u001b[0m\u001b[1;33m,\u001b[0m \u001b[1;36m1\u001b[0m\u001b[1;33m,\u001b[0m \u001b[0mn\u001b[0m\u001b[1;33m)\u001b[0m\u001b[1;33m\u001b[0m\u001b[1;33m\u001b[0m\u001b[0m\n\u001b[0m\u001b[0;32m      5\u001b[0m     \u001b[0mprint\u001b[0m\u001b[1;33m(\u001b[0m\u001b[1;34mf\"For n = {n}, F(p, |z|) = {F_pz}\"\u001b[0m\u001b[1;33m)\u001b[0m\u001b[1;33m\u001b[0m\u001b[1;33m\u001b[0m\u001b[0m\n",
      "\u001b[1;32m~\\AppData\\Local\\Temp\\ipykernel_10124\\3404174405.py\u001b[0m in \u001b[0;36mapproximate_int_simpsons\u001b[1;34m(f, x0, xn, n)\u001b[0m\n\u001b[0;32m     21\u001b[0m     \u001b[0msimpsons_approx\u001b[0m \u001b[1;33m=\u001b[0m \u001b[1;36m0\u001b[0m\u001b[1;33m\u001b[0m\u001b[1;33m\u001b[0m\u001b[0m\n\u001b[0;32m     22\u001b[0m \u001b[1;33m\u001b[0m\u001b[0m\n\u001b[1;32m---> 23\u001b[1;33m     \u001b[1;32mfor\u001b[0m \u001b[0mi\u001b[0m \u001b[1;32min\u001b[0m \u001b[0mrange\u001b[0m\u001b[1;33m(\u001b[0m\u001b[0mn\u001b[0m\u001b[1;33m)\u001b[0m\u001b[1;33m:\u001b[0m\u001b[1;33m\u001b[0m\u001b[1;33m\u001b[0m\u001b[0m\n\u001b[0m\u001b[0;32m     24\u001b[0m         \u001b[0mxi\u001b[0m \u001b[1;33m=\u001b[0m \u001b[0mx0\u001b[0m \u001b[1;33m+\u001b[0m \u001b[0mi\u001b[0m \u001b[1;33m*\u001b[0m \u001b[0mdelta_x\u001b[0m\u001b[1;33m\u001b[0m\u001b[1;33m\u001b[0m\u001b[0m\n\u001b[0;32m     25\u001b[0m         \u001b[0mxi1\u001b[0m \u001b[1;33m=\u001b[0m \u001b[0mx0\u001b[0m \u001b[1;33m+\u001b[0m \u001b[1;33m(\u001b[0m\u001b[0mi\u001b[0m \u001b[1;33m+\u001b[0m \u001b[1;36m1\u001b[0m\u001b[1;33m)\u001b[0m \u001b[1;33m*\u001b[0m \u001b[0mdelta_x\u001b[0m\u001b[1;33m\u001b[0m\u001b[1;33m\u001b[0m\u001b[0m\n",
      "\u001b[1;31mTypeError\u001b[0m: 'float' object cannot be interpreted as an integer"
     ]
    }
   ],
   "source": [
    "n_values = [10, 10e2, 10e3, 10e4, 10e5]\n",
    "\n",
    "for n in n_values:\n",
    "    F_pz = approximate_int_simpsons(integrand_numerator, 0, 1, n)/approximate_int_simpsons(integrand_denominator, 0, 1, n)\n",
    "    print(f\"For n = {n}, F(p, |z|) = {F_pz}\")"
   ]
  },
  {
   "cell_type": "code",
   "execution_count": 67,
   "id": "e7225911",
   "metadata": {},
   "outputs": [],
   "source": [
    "# Fractional error \n",
    "def fractional_error_Fpz(true_value, F_pz):\n",
    "    return math.fabs(true_value - F_pz) / true_value"
   ]
  },
  {
   "cell_type": "code",
   "execution_count": 69,
   "id": "359e0739",
   "metadata": {},
   "outputs": [
    {
     "name": "stdout",
     "output_type": "stream",
     "text": [
      "0.9684170049114548\n"
     ]
    }
   ],
   "source": [
    "# Calculating the true value using analytic formula from PS1\n",
    "p = 0.2\n",
    "z = 0.9  \n",
    "    \n",
    "if 1 + p < z:\n",
    "    y = 1 - 0\n",
    "elif math.fabs(1-p) < z and z <= 1 + p:\n",
    "    a = math.acos((1-p**2+z**2)/(2*z))\n",
    "    b = math.acos((p**2+z**2-1)/(2*p*z))\n",
    "    y = 1 - ((1/math.pi)*(p**2*b+a-((4*z**2-(1+z**2-p**2)**2)/4)**0.5))\n",
    "elif z <= 1-p:\n",
    "    y = 1 - p**2\n",
    "elif z <= p-1:\n",
    "    y = 1 - 1 \n",
    "    \n",
    "print(y)"
   ]
  },
  {
   "cell_type": "code",
   "execution_count": 81,
   "id": "df381c3f",
   "metadata": {},
   "outputs": [
    {
     "name": "stdout",
     "output_type": "stream",
     "text": [
      "For n = 10, F(p, |z|) = 0.9687420048514388, fractional error = 3.356042401556623e-04\n",
      "For n = 100, F(p, |z|) = 0.9684272016510476, fractional error = 1.053435766574955e-05\n",
      "For n = 1000, F(p, |z|) = 0.9684173272303757, fractional error = 3.379023454618840e-07\n",
      "For n = 10000, F(p, |z|) = 0.9684170151036687, fractional error = 1.559624496484381e-08\n",
      "For n = 100000, F(p, |z|) = 0.9684170052337621, fractional error = 5.404450861957375e-09\n"
     ]
    }
   ],
   "source": [
    "# Fractional error \n",
    "true_value = 0.968417\n",
    "def fractional_error_Fpz(true_value, F_pz):\n",
    "    return math.fabs(true_value - F_pz) / true_value\n",
    "for n in n_values:\n",
    "    F_pz = approximate_int_simpsons(integrand_numerator, 0, 1, n)/approximate_int_simpsons(integrand_denominator, 0, 1, n)\n",
    "    error_Fpz = fractional_error_Fpz(true_value, F_pz)\n",
    "    print(f\"For n = {n}, F(p, |z|) = {F_pz}, fractional error = {error_Fpz:.15e}\")"
   ]
  },
  {
   "cell_type": "code",
   "execution_count": null,
   "id": "07112f6d",
   "metadata": {},
   "outputs": [],
   "source": [
    "\"\"\"\n",
    "As n increases, the fractional error decreases by a factor of roughly 10. \n",
    "\"\"\""
   ]
  },
  {
   "cell_type": "code",
   "execution_count": null,
   "id": "275b6f90",
   "metadata": {},
   "outputs": [],
   "source": [
    "# Problem 3\n"
   ]
  }
 ],
 "metadata": {
  "kernelspec": {
   "display_name": "Python 3 (ipykernel)",
   "language": "python",
   "name": "python3"
  },
  "language_info": {
   "codemirror_mode": {
    "name": "ipython",
    "version": 3
   },
   "file_extension": ".py",
   "mimetype": "text/x-python",
   "name": "python",
   "nbconvert_exporter": "python",
   "pygments_lexer": "ipython3",
   "version": "3.9.13"
  }
 },
 "nbformat": 4,
 "nbformat_minor": 5
}
