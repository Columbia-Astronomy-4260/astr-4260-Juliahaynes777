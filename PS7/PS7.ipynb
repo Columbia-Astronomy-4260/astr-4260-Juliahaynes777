{
 "cells": [
  {
   "cell_type": "code",
   "execution_count": null,
   "id": "c2b941e6",
   "metadata": {},
   "outputs": [],
   "source": [
    "+# PS7"
   ]
  },
  {
   "cell_type": "code",
   "execution_count": null,
   "id": "b37274ef",
   "metadata": {},
   "outputs": [],
   "source": [
    "# Problem 1"
   ]
  },
  {
   "cell_type": "code",
   "execution_count": 4,
   "id": "43f41565",
   "metadata": {
    "scrolled": true
   },
   "outputs": [
    {
     "name": "stdout",
     "output_type": "stream",
     "text": [
      "Requirement already satisfied: lightkurve in c:\\users\\julia\\anaconda3\\lib\\site-packages (2.4.2)\n",
      "Requirement already satisfied: patsy>=0.5.0 in c:\\users\\julia\\anaconda3\\lib\\site-packages (from lightkurve) (0.5.2)\n",
      "Requirement already satisfied: bokeh>=2.0.0 in c:\\users\\julia\\anaconda3\\lib\\site-packages (from lightkurve) (2.4.3)\n",
      "Requirement already satisfied: oktopus>=0.1.2 in c:\\users\\julia\\anaconda3\\lib\\site-packages (from lightkurve) (0.1.2)\n",
      "Requirement already satisfied: beautifulsoup4>=4.6.0 in c:\\users\\julia\\anaconda3\\lib\\site-packages (from lightkurve) (4.11.1)\n",
      "Requirement already satisfied: astroquery>=0.3.10 in c:\\users\\julia\\anaconda3\\lib\\site-packages (from lightkurve) (0.4.6)\n",
      "Requirement already satisfied: requests>=2.22.0 in c:\\users\\julia\\anaconda3\\lib\\site-packages (from lightkurve) (2.28.1)\n",
      "Requirement already satisfied: matplotlib>=3.1 in c:\\users\\julia\\anaconda3\\lib\\site-packages (from lightkurve) (3.5.2)\n",
      "Requirement already satisfied: fbpca>=1.0 in c:\\users\\julia\\anaconda3\\lib\\site-packages (from lightkurve) (1.0)\n",
      "Requirement already satisfied: astropy>=5.0 in c:\\users\\julia\\anaconda3\\lib\\site-packages (from lightkurve) (5.1)\n",
      "Requirement already satisfied: tqdm>=4.25.0 in c:\\users\\julia\\anaconda3\\lib\\site-packages (from lightkurve) (4.64.1)\n",
      "Requirement already satisfied: urllib3>=1.23 in c:\\users\\julia\\anaconda3\\lib\\site-packages (from lightkurve) (1.26.11)\n",
      "Requirement already satisfied: numpy>=1.18 in c:\\users\\julia\\anaconda3\\lib\\site-packages (from lightkurve) (1.21.5)\n",
      "Requirement already satisfied: memoization>=0.3.1 in c:\\users\\julia\\anaconda3\\lib\\site-packages (from lightkurve) (0.4.0)\n",
      "Requirement already satisfied: scipy>=1.7 in c:\\users\\julia\\anaconda3\\lib\\site-packages (from lightkurve) (1.9.1)\n",
      "Requirement already satisfied: uncertainties>=3.1.4 in c:\\users\\julia\\anaconda3\\lib\\site-packages (from lightkurve) (3.1.7)\n",
      "Requirement already satisfied: scikit-learn>=0.24.0 in c:\\users\\julia\\anaconda3\\lib\\site-packages (from lightkurve) (1.0.2)\n",
      "Requirement already satisfied: pandas>=1.1.4 in c:\\users\\julia\\anaconda3\\lib\\site-packages (from lightkurve) (1.4.4)\n",
      "Requirement already satisfied: pyerfa>=2.0 in c:\\users\\julia\\anaconda3\\lib\\site-packages (from astropy>=5.0->lightkurve) (2.0.0)\n",
      "Requirement already satisfied: packaging>=19.0 in c:\\users\\julia\\anaconda3\\lib\\site-packages (from astropy>=5.0->lightkurve) (21.3)\n",
      "Requirement already satisfied: PyYAML>=3.13 in c:\\users\\julia\\anaconda3\\lib\\site-packages (from astropy>=5.0->lightkurve) (6.0)\n",
      "Requirement already satisfied: keyring>=4.0 in c:\\users\\julia\\anaconda3\\lib\\site-packages (from astroquery>=0.3.10->lightkurve) (23.4.0)\n",
      "Requirement already satisfied: html5lib>=0.999 in c:\\users\\julia\\anaconda3\\lib\\site-packages (from astroquery>=0.3.10->lightkurve) (1.1)\n",
      "Requirement already satisfied: pyvo>=1.1 in c:\\users\\julia\\anaconda3\\lib\\site-packages (from astroquery>=0.3.10->lightkurve) (1.4.2)\n",
      "Requirement already satisfied: soupsieve>1.2 in c:\\users\\julia\\anaconda3\\lib\\site-packages (from beautifulsoup4>=4.6.0->lightkurve) (2.3.1)\n",
      "Requirement already satisfied: Jinja2>=2.9 in c:\\users\\julia\\anaconda3\\lib\\site-packages (from bokeh>=2.0.0->lightkurve) (2.11.3)\n",
      "Requirement already satisfied: tornado>=5.1 in c:\\users\\julia\\anaconda3\\lib\\site-packages (from bokeh>=2.0.0->lightkurve) (6.1)\n",
      "Requirement already satisfied: typing-extensions>=3.10.0 in c:\\users\\julia\\anaconda3\\lib\\site-packages (from bokeh>=2.0.0->lightkurve) (4.3.0)\n",
      "Requirement already satisfied: pillow>=7.1.0 in c:\\users\\julia\\anaconda3\\lib\\site-packages (from bokeh>=2.0.0->lightkurve) (9.2.0)\n",
      "Requirement already satisfied: fonttools>=4.22.0 in c:\\users\\julia\\anaconda3\\lib\\site-packages (from matplotlib>=3.1->lightkurve) (4.25.0)\n",
      "Requirement already satisfied: pyparsing>=2.2.1 in c:\\users\\julia\\anaconda3\\lib\\site-packages (from matplotlib>=3.1->lightkurve) (3.0.9)\n",
      "Requirement already satisfied: kiwisolver>=1.0.1 in c:\\users\\julia\\anaconda3\\lib\\site-packages (from matplotlib>=3.1->lightkurve) (1.4.2)\n",
      "Requirement already satisfied: cycler>=0.10 in c:\\users\\julia\\anaconda3\\lib\\site-packages (from matplotlib>=3.1->lightkurve) (0.11.0)\n",
      "Requirement already satisfied: python-dateutil>=2.7 in c:\\users\\julia\\anaconda3\\lib\\site-packages (from matplotlib>=3.1->lightkurve) (2.8.2)\n",
      "Requirement already satisfied: autograd in c:\\users\\julia\\anaconda3\\lib\\site-packages (from oktopus>=0.1.2->lightkurve) (1.6.2)\n",
      "Requirement already satisfied: pytz>=2020.1 in c:\\users\\julia\\anaconda3\\lib\\site-packages (from pandas>=1.1.4->lightkurve) (2022.1)\n",
      "Requirement already satisfied: six in c:\\users\\julia\\anaconda3\\lib\\site-packages (from patsy>=0.5.0->lightkurve) (1.16.0)\n",
      "Requirement already satisfied: certifi>=2017.4.17 in c:\\users\\julia\\anaconda3\\lib\\site-packages (from requests>=2.22.0->lightkurve) (2022.9.14)\n",
      "Requirement already satisfied: idna<4,>=2.5 in c:\\users\\julia\\anaconda3\\lib\\site-packages (from requests>=2.22.0->lightkurve) (3.3)\n",
      "Requirement already satisfied: charset-normalizer<3,>=2 in c:\\users\\julia\\anaconda3\\lib\\site-packages (from requests>=2.22.0->lightkurve) (2.0.4)\n",
      "Requirement already satisfied: threadpoolctl>=2.0.0 in c:\\users\\julia\\anaconda3\\lib\\site-packages (from scikit-learn>=0.24.0->lightkurve) (2.2.0)\n",
      "Requirement already satisfied: joblib>=0.11 in c:\\users\\julia\\anaconda3\\lib\\site-packages (from scikit-learn>=0.24.0->lightkurve) (1.1.0)\n",
      "Requirement already satisfied: colorama in c:\\users\\julia\\anaconda3\\lib\\site-packages (from tqdm>=4.25.0->lightkurve) (0.4.5)\n",
      "Requirement already satisfied: future in c:\\users\\julia\\anaconda3\\lib\\site-packages (from uncertainties>=3.1.4->lightkurve) (0.18.2)\n",
      "Requirement already satisfied: webencodings in c:\\users\\julia\\anaconda3\\lib\\site-packages (from html5lib>=0.999->astroquery>=0.3.10->lightkurve) (0.5.1)\n",
      "Requirement already satisfied: MarkupSafe>=0.23 in c:\\users\\julia\\anaconda3\\lib\\site-packages (from Jinja2>=2.9->bokeh>=2.0.0->lightkurve) (2.0.1)\n",
      "Requirement already satisfied: importlib-metadata>=3.6 in c:\\users\\julia\\anaconda3\\lib\\site-packages (from keyring>=4.0->astroquery>=0.3.10->lightkurve) (4.11.3)\n",
      "Requirement already satisfied: pywin32-ctypes!=0.1.0,!=0.1.1 in c:\\users\\julia\\anaconda3\\lib\\site-packages (from keyring>=4.0->astroquery>=0.3.10->lightkurve) (0.2.0)\n",
      "Requirement already satisfied: zipp>=0.5 in c:\\users\\julia\\anaconda3\\lib\\site-packages (from importlib-metadata>=3.6->keyring>=4.0->astroquery>=0.3.10->lightkurve) (3.8.0)\n"
     ]
    }
   ],
   "source": [
    "# Installing lightcurve\n",
    "! python -m pip install lightkurve --upgrade"
   ]
  },
  {
   "cell_type": "code",
   "execution_count": 5,
   "id": "efad3c6b",
   "metadata": {},
   "outputs": [],
   "source": [
    "# Imports \n",
    "import math\n",
    "import scipy\n",
    "import statistics\n",
    "import numpy as np\n",
    "import matplotlib.pyplot as plt\n",
    "import lightkurve as lk\n",
    "from scipy.special import gammainc, gamma"
   ]
  },
  {
   "cell_type": "code",
   "execution_count": 6,
   "id": "0206b448",
   "metadata": {},
   "outputs": [],
   "source": [
    "# Problem 1\n",
    "lcs = lk.search_lightcurve(\"Kepler-7b\", mission=\"Kepler\", cadence=\"short\").download_all()\n",
    "time_all = lcs[0].time.value # get the time of each observation\n",
    "flux_all = np.array(lcs[0].flux.value.data) # get the flux\n",
    "flux_err_all = np.array(lcs[0].flux_err.value.data) # get the error in the flux\n",
    "\n",
    "# Ensures time, flux, and flux_err have same number of elements\n",
    "assert(len(time_all)==len(flux_all) and len(flux_all)==len(flux_err_all))"
   ]
  },
  {
   "cell_type": "code",
   "execution_count": 7,
   "id": "7f3f3e14",
   "metadata": {},
   "outputs": [
    {
     "name": "stdout",
     "output_type": "stream",
     "text": [
      "106457.664\n",
      "52.149185\n"
     ]
    }
   ],
   "source": [
    "# Extracting values in the time between t=261 and t=262 using a mask\n",
    "mask = (time_all>=261) & (time_all<=262)\n",
    "time_all = time_all[mask]\n",
    "flux_all = flux_all[mask]\n",
    "flux_err_all = flux_err_all[mask]\n",
    "\n",
    "# Calculate average flux and standard deviation\n",
    "average_flux_all = statistics.mean(flux_all)\n",
    "average_flux_err_all = statistics.mean(flux_err_all)\n",
    "print(average_flux_all)\n",
    "print(average_flux_err_all)"
   ]
  },
  {
   "cell_type": "code",
   "execution_count": 8,
   "id": "7c918d49",
   "metadata": {},
   "outputs": [],
   "source": [
    "def exclude_transit(time_all, flux_all, flux_err_all, iterations=5):    \n",
    "    for _ in range(iterations):\n",
    "        average_flux_all = statistics.mean(flux_all)\n",
    "        standard_deviation_flux_all = statistics.mean(flux_err_all)\n",
    "        \n",
    "        # Creating a mask to exclude points more than 2σ away from the mean\n",
    "        transit_mask = np.abs(flux_all - average_flux_all) / standard_deviation_flux_all <= 2\n",
    "        time = time_all[transit_mask]\n",
    "        flux = flux_all[transit_mask]\n",
    "        flux_err = flux_err_all[transit_mask]\n",
    "        \n",
    "    return time, flux, flux_err\n",
    "\n",
    "time_filtered, flux_filtered, flux_err_filtered = exclude_transit(time_all, flux_all, flux_err_all)"
   ]
  },
  {
   "cell_type": "code",
   "execution_count": 9,
   "id": "a2c1fbc1",
   "metadata": {
    "scrolled": false
   },
   "outputs": [
    {
     "name": "stdout",
     "output_type": "stream",
     "text": [
      "[261.00017066 261.00357614 261.00561936 261.01038719 261.01651707\n",
      " 261.02060363 261.0212847  261.024009   261.02537126 261.02673341\n",
      " 261.03150104 261.03763092 261.03831209 261.03899307 261.0410364\n",
      " 261.04307972 261.04444177 261.04580403 261.05193391 261.05261508\n",
      " 261.06010711 261.06078809 261.06487474 261.06555592 261.06691797\n",
      " 261.06759905 261.07509118 261.08462654 261.08598869 261.08735094\n",
      " 261.09075632 261.09279964 261.09348082 261.09484287 261.0968862\n",
      " 261.09756737 261.10301608 261.10778381 261.11187036 261.11459476\n",
      " 261.11527584 261.11731907 261.12004347 261.12685432 261.13094108\n",
      " 261.13502763 261.13979526 261.14592514 261.15205492 261.15614148\n",
      " 261.16022803 261.16295253 261.16431478 261.17453112 261.17861767\n",
      " 261.1833853  261.1861098  261.18747185 261.18951518 261.19223968\n",
      " 261.19360173 261.19496398 261.19564506 261.19632624 261.19700731\n",
      " 261.19768839 261.19836956 261.19905054 261.19973161 261.20109386\n",
      " 261.20177494 261.20245612 261.3979304  261.39861147 261.39929265\n",
      " 261.39997373 261.4006549  261.40133598 261.40201705 261.40269803\n",
      " 261.4033792  261.40610361 261.40678468 261.40746586 261.40814683\n",
      " 261.40882791 261.40950908 261.41087123 261.41155231 261.41632004\n",
      " 261.41768219 261.41836336 261.42244992 261.42653647 261.43334743\n",
      " 261.43539075 261.43743398 261.44152053 261.44220161 261.44424493\n",
      " 261.44765031 261.45446137 261.45718577 261.46059125 261.46127232\n",
      " 261.4619535  261.46263457 261.46603995 261.47898078 261.48102401\n",
      " 261.48374851 261.48783507 261.48987839 261.49260269 261.49396494\n",
      " 261.49600827 261.50009472 261.50281913 261.50826783 261.50894891\n",
      " 261.51235448 261.51371663 261.51439771 261.51712221 261.51916544\n",
      " 261.51984651 261.52052759 261.52120876 261.52665747 261.52870079\n",
      " 261.53006295 261.53278735 261.5368739  261.54164153 261.54572808\n",
      " 261.54640916 261.55730676 261.55866891 261.56003117 261.56275547\n",
      " 261.56616104 261.56956642 261.5702476  261.572972   261.57705855\n",
      " 261.57773973 261.57910178 261.57978285 261.58318843 261.58386951\n",
      " 261.59068036 261.59272369 261.60362129 261.60430237 261.60566462\n",
      " 261.60702667 261.60770775 261.60907    261.61315655 261.61656213\n",
      " 261.61860535 261.61928643 261.62745964 261.62950276 261.63495157\n",
      " 261.63563274 261.63767607 261.64040037 261.64176262 261.64380595\n",
      " 261.64857357 261.64925465 261.65538453 261.65674658 261.66083333\n",
      " 261.66287646 261.66423871 261.66491988 261.66696301 261.66900644\n",
      " 261.67036859 261.67104976 261.67241181 261.67649847 261.67717954\n",
      " 261.67786072 261.67854169 261.67922277 261.68058502 261.68126609\n",
      " 261.68330942 261.68739597 261.69080145 261.69284478 261.70033671\n",
      " 261.70442336 261.70510453 261.70850991 261.70987216 261.71259646\n",
      " 261.71327754 261.71395871 261.71600204 261.71736409 261.72008859\n",
      " 261.72281289 261.7282617  261.72894277 261.73166717 261.7337104\n",
      " 261.73439148 261.73575373 261.74188361 261.74460791 261.74597016\n",
      " 261.74801348 261.75414336 261.75482444 261.75550541 261.75618659\n",
      " 261.75686766 261.75822992 261.75891099 261.76027324 261.76231647\n",
      " 261.76299754 261.76504087 261.76640302 261.76844635 261.76912742\n",
      " 261.77048957 261.77185172 261.7725328  261.77321397 261.77934385\n",
      " 261.78002493 261.7834304  261.78479256 261.78547373 261.78956028\n",
      " 261.79024136 261.80045779 261.80250102 261.80386327 261.80522542\n",
      " 261.80658757 261.80931207 261.81271755 261.8140797  261.81544195\n",
      " 261.81884742 261.8222528  261.82838268 261.82906376 261.83655588\n",
      " 261.84268576 261.84336674 261.84404781 261.84609114 261.84745339\n",
      " 261.84881554 261.84949662 261.85085887 261.85290219 261.85562649\n",
      " 261.86516185 261.86788625 261.87129163 261.87605945 261.87878376\n",
      " 261.88082708 261.88355138 261.89172459 261.89376781 261.89785447\n",
      " 261.89853544 261.89921652 261.90262209 261.90602757 261.90738982\n",
      " 261.90875197 261.9135196  261.91420067 261.916244   261.91828723\n",
      " 261.92646033 261.92714141 261.92918483 261.93054708 261.93735794\n",
      " 261.94076341 261.94212566 261.95097984 261.9577908  261.95847197\n",
      " 261.95915295 261.96187735 261.96255852 261.96528282 261.97073153\n",
      " 261.9714127  261.98367236 261.98571568 261.98844009 261.98912116\n",
      " 261.99729436 261.99865651 261.99933759] [106560.03  106546.44  106487.98  106550.57  106537.21  106506.21\n",
      " 106513.086 106557.91  106555.72  106537.33  106535.8   106559.84\n",
      " 106532.164 106542.09  106553.91  106462.76  106506.164 106540.46\n",
      " 106515.695 106549.25  106532.48  106533.234 106492.9   106541.84\n",
      " 106527.49  106548.31  106522.88  106515.125 106507.97  106515.15\n",
      " 106545.18  106551.97  106485.086 106556.984 106518.13  106529.76\n",
      " 106532.41  106429.38  106556.12  106541.94  106551.734 106533.13\n",
      " 106516.61  106551.59  106561.13  106533.18  106543.58  106505.45\n",
      " 106544.43  106525.34  106533.4   106555.414 106550.2   106545.84\n",
      " 106551.945 106560.164 106516.49  106549.13  106499.586 106557.58\n",
      " 106538.69  106553.53  106515.836 106529.98  106530.93  106517.42\n",
      " 106481.54  106442.73  106392.75  106386.445 106363.414 106364.8\n",
      " 106399.125 106411.445 106370.414 106474.05  106380.62  106479.15\n",
      " 106418.64  106519.08  106542.14  106535.79  106535.8   106531.26\n",
      " 106497.22  106546.17  106551.2   106520.52  106527.33  106520.46\n",
      " 106546.01  106534.62  106485.71  106560.7   106521.34  106550.01\n",
      " 106520.16  106547.8   106518.24  106556.69  106523.38  106558.89\n",
      " 106533.055 106542.41  106540.02  106560.77  106539.75  106546.91\n",
      " 106497.72  106526.336 106500.625 106558.41  106551.39  106528.3\n",
      " 106505.5   106539.62  106485.65  106556.24  106555.76  106458.35\n",
      " 106533.055 106518.91  106437.4   106488.57  106542.14  106561.4\n",
      " 106531.67  106497.984 106553.47  106543.84  106517.484 106537.99\n",
      " 106527.72  106549.68  106507.195 106544.02  106561.74  106557.93\n",
      " 106531.16  106554.08  106446.484 106519.1   106548.45  106551.27\n",
      " 106528.93  106556.016 106553.766 106556.12  106538.63  106532.43\n",
      " 106532.24  106558.61  106553.125 106554.75  106545.12  106523.36\n",
      " 106542.66  106560.07  106561.09  106550.77  106557.6   106542.914\n",
      " 106508.44  106498.87  106502.336 106554.94  106546.984 106514.984\n",
      " 106519.44  106515.586 106557.63  106556.98  106524.72  106549.88\n",
      " 106542.75  106505.9   106500.305 106550.42  106524.95  106549.88\n",
      " 106527.23  106527.84  106464.02  106438.46  106471.09  106552.59\n",
      " 106531.11  106530.96  106517.71  106551.31  106552.18  106558.055\n",
      " 106544.95  106483.086 106546.06  106521.33  106511.086 106518.69\n",
      " 106549.234 106524.734 106559.91  106545.5   106471.66  106534.375\n",
      " 106557.91  106538.586 106492.98  106559.3   106523.11  106545.305\n",
      " 106544.445 106500.92  106512.64  106529.91  106539.11  106425.16\n",
      " 106551.11  106523.28  106549.445 106507.58  106546.15  106510.7\n",
      " 106555.51  106547.55  106507.32  106553.375 106556.    106541.02\n",
      " 106407.695 106539.35  106490.49  106491.695 106523.266 106519.48\n",
      " 106532.13  106491.93  106554.    106517.45  106551.65  106551.85\n",
      " 106540.3   106548.31  106524.43  106537.53  106511.305 106538.48\n",
      " 106548.57  106534.125 106556.41  106545.6   106558.414 106560.016\n",
      " 106551.086 106512.23  106544.46  106485.9   106538.43  106517.64\n",
      " 106556.61  106541.5   106560.96  106524.54  106536.5   106520.18\n",
      " 106561.08  106548.    106559.32  106554.5   106556.195 106500.61\n",
      " 106524.914 106518.47  106561.1   106560.51  106555.195 106554.836\n",
      " 106560.83  106523.875 106550.64  106510.945 106544.484 106537.56\n",
      " 106547.57  106544.44  106528.7   106544.71  106545.06  106543.8\n",
      " 106536.664 106561.086 106522.7   106542.34  106559.05  106559.76\n",
      " 106515.69  106555.11  106541.5   106559.43  106534.92  106533.97\n",
      " 106538.75  106555.34  106550.04  106539.914 106532.47  106553.1\n",
      " 106520.72  106534.52 ] [51.94582  52.005585 52.037334 52.14347  52.230255 52.24304  52.24409\n",
      " 52.23357  52.215813 52.192104 52.107803 52.00793  51.99177  51.9834\n",
      " 51.96418  51.935062 51.94024  51.94646  51.977547 51.99011  52.062035\n",
      " 52.065662 52.083115 52.089546 52.089584 52.09527  52.08858  52.16005\n",
      " 52.131268 52.148735 52.285816 52.23153  52.227272 52.26188  52.283455\n",
      " 52.290993 52.353992 52.352512 52.364815 52.344448 52.33992  52.31848\n",
      " 52.29141  52.212696 52.16461  52.1081   52.071228 52.038963 52.064747\n",
      " 52.082405 52.122494 52.151318 52.165577 52.282104 52.338448 52.35035\n",
      " 52.32569  52.311783 52.2715   52.231167 52.205273 52.180298 52.16434\n",
      " 52.15753  52.145924 52.135586 52.119453 52.10496  52.087868 52.078285\n",
      " 52.069584 52.063107 52.184696 52.19566  52.195522 52.226868 52.218555\n",
      " 52.245865 52.244007 52.27106  52.286884 52.31497  52.36377  52.326557\n",
      " 52.32527  52.338192 52.34017  52.333447 52.33438  52.293938 52.286427\n",
      " 52.27395  52.204624 52.17114  52.138145 52.198418 52.16278  52.208214\n",
      " 52.21336  52.240677 52.273766 52.318867 52.31742  52.313145 52.310112\n",
      " 52.312252 52.304768 52.291576 52.222748 52.22068  52.209087 52.215027\n",
      " 52.21319  52.212082 52.20664  52.220184 52.220478 52.235085 52.240147\n",
      " 52.219154 52.225925 52.207714 52.195435 52.186592 52.177017 52.17504\n",
      " 52.163544 52.15184  52.13086  52.13143  52.124302 52.144726 52.183342\n",
      " 52.26636  52.318157 52.33211  52.327675 52.308254 52.275578 52.23143\n",
      " 52.149437 52.11326  52.111595 52.087315 52.0843   52.096962 52.10586\n",
      " 52.110603 52.145206 52.154297 52.23308  52.251667 52.180363 52.17402\n",
      " 52.155174 52.13655  52.134094 52.121464 52.08858  52.07298  52.075375\n",
      " 52.072098 52.095577 52.1036   52.120323 52.12969  52.13185  52.12159\n",
      " 52.11672  52.111423 52.10514  52.10507  52.091885 52.0974   52.105312\n",
      " 52.10008  52.101654 52.11074  52.11209  52.120796 52.11799  52.11859\n",
      " 52.111492 52.10167  52.13464  52.117496 52.112366 52.110058 52.101395\n",
      " 52.103325 52.096764 52.075226 52.065968 52.04618  52.072323 52.093796\n",
      " 52.095783 52.125664 52.140453 52.161045 52.17151  52.1755   52.171425\n",
      " 52.189472 52.20516  52.203182 52.18426  52.195366 52.174713 52.16297\n",
      " 52.15841  52.14255  52.081818 52.058678 52.0433   52.004536 51.97822\n",
      " 51.97297  51.97569  51.961823 51.972363 51.960934 51.972607 51.971924\n",
      " 51.97493  51.98083  51.99214  51.99886  51.988865 52.02065  52.02237\n",
      " 52.033997 52.04405  52.049034 52.096413 52.093323 52.125477 52.123425\n",
      " 52.13126  52.15311  52.153038 52.165226 52.154945 52.151443 52.170776\n",
      " 52.137993 52.126785 52.11832  52.114296 52.116096 52.114735 52.124496\n",
      " 52.14509  52.143448 52.187336 52.204205 52.214417 52.21509  52.22748\n",
      " 52.23168  52.302032 52.232964 52.23685  52.23482  52.24439  52.205173\n",
      " 52.192154 52.171535 52.148716 52.126022 52.12671  52.118065 52.112984\n",
      " 52.105145 52.092983 52.089382 52.09016  52.06755  52.0916   52.047348\n",
      " 52.047634 52.03378  52.03321  52.033615 52.034565 52.062763 52.062454\n",
      " 52.076046 52.085384 52.130924 52.138515 52.146236 52.16276  52.143444\n",
      " 52.134228 52.135563 52.116516 52.11444  52.094616 52.03956  52.03589\n",
      " 51.97927  51.979053 51.98439  51.985046 52.033455 52.03526  52.04274 ]\n"
     ]
    }
   ],
   "source": [
    "print(time_filtered, flux_filtered, flux_err_filtered)"
   ]
  },
  {
   "cell_type": "code",
   "execution_count": 10,
   "id": "df377989",
   "metadata": {},
   "outputs": [],
   "source": [
    "# Normalization\n",
    "statistics.mean(time_filtered)\n",
    "average_flux_filtered = statistics.mean(flux_filtered)\n",
    "standard_deviation_flux_filtered = statistics.mean(flux_err_filtered)"
   ]
  },
  {
   "cell_type": "code",
   "execution_count": 11,
   "id": "75aebf2c",
   "metadata": {},
   "outputs": [
    {
     "data": {
      "text/plain": [
       "106527.555"
      ]
     },
     "execution_count": 11,
     "metadata": {},
     "output_type": "execute_result"
    }
   ],
   "source": [
    "statistics.mean(flux_filtered)"
   ]
  },
  {
   "cell_type": "code",
   "execution_count": 12,
   "id": "669b33b9",
   "metadata": {},
   "outputs": [
    {
     "name": "stdout",
     "output_type": "stream",
     "text": [
      "[1.0003048  1.0001773  0.9996285  1.000216   1.0000906  0.99979967\n",
      " 0.99986416 1.0002849  1.0002644  1.0000918  1.0000774  1.0003031\n",
      " 1.0000433  1.0001365  1.0002474  0.99939173 0.9997992  1.0001211\n",
      " 0.99988866 1.0002036  1.0000463  1.0000533  0.9996747  1.0001341\n",
      " 0.9999994  1.0001949  0.99995613 0.9998833  0.9998161  0.99988353\n",
      " 1.0001655  1.0002292  0.99960136 1.0002762  0.99991155 1.0000206\n",
      " 1.0000455  0.99907845 1.0002681  1.0001351  1.000227   1.0000523\n",
      " 0.99989724 1.0002257  1.0003152  1.0000528  1.0001504  0.9997925\n",
      " 1.0001584  0.99997926 1.0000548  1.0002615  1.0002126  1.0001717\n",
      " 1.000229   1.0003061  0.99989617 1.0002025  0.99973744 1.0002818\n",
      " 1.0001045  1.0002439  0.99988997 1.0000228  1.0000317  0.9999049\n",
      " 0.99956805 0.9992037  0.99873453 0.99867535 0.99845916 0.99847215\n",
      " 0.9987944  0.99891007 0.9985249  0.9994977  0.9986207  0.9995456\n",
      " 0.9989776  0.9999204  1.000137   1.0000772  1.0000774  1.0000348\n",
      " 0.9997152  1.0001748  1.000222   0.999934   0.99999785 0.9999334\n",
      " 1.0001732  1.0000663  0.9996072  1.0003111  0.9999417  1.0002108\n",
      " 0.99993056 1.00019    0.99991256 1.0002735  0.99996084 1.0002942\n",
      " 1.0000516  1.0001394  1.0001171  1.0003119  1.0001144  1.0001817\n",
      " 0.9997199  0.99998856 0.9997472  1.0002896  1.0002238  1.0000069\n",
      " 0.999793   1.0001132  0.9996066  1.0002693  1.0002648  0.99935037\n",
      " 1.0000516  0.9999188  0.9991537  0.999634   1.000137   1.0003177\n",
      " 1.0000386  0.9997224  1.0002433  1.000153   0.99990547 1.000098\n",
      " 1.0000015  1.0002077  0.9998089  1.0001546  1.0003209  1.0002851\n",
      " 1.0000339  1.000249   0.99923897 0.99992067 1.0001962  1.0002227\n",
      " 1.0000129  1.0002671  1.000246   1.0002681  1.000104   1.0000458\n",
      " 1.000044   1.0002915  1.0002401  1.0002553  1.0001649  0.9999606\n",
      " 1.0001417  1.0003052  1.0003148  1.0002179  1.000282   1.0001441\n",
      " 0.99982053 0.9997307  0.99976325 1.000257   1.0001824  0.999882\n",
      " 0.9999238  0.99988765 1.0002824  1.0002762  0.99997336 1.0002096\n",
      " 1.0001427  0.9997967  0.9997442  1.0002147  0.99997556 1.0002096\n",
      " 0.9999969  1.0000027  0.9994036  0.9991636  0.99947    1.0002351\n",
      " 1.0000334  1.000032   0.9999076  1.000223   1.0002311  1.0002863\n",
      " 1.0001633  0.9995826  1.0001737  0.9999415  0.9998454  0.99991673\n",
      " 1.0002035  0.99997354 1.0003037  1.0001684  0.99947524 1.000064\n",
      " 1.0002849  1.0001036  0.9996754  1.000298   0.9999583  1.0001667\n",
      " 1.0001585  0.99975    0.99986    1.000022   1.0001085  0.99903876\n",
      " 1.0002211  0.9999599  1.0002055  0.9998125  1.0001745  0.9998418\n",
      " 1.0002624  1.0001876  0.99981004 1.0002424  1.000267   1.0001265\n",
      " 0.99887484 1.0001107  0.9996521  0.99966335 0.99995977 0.9999242\n",
      " 1.000043   0.99966556 1.0002482  0.99990517 1.0002261  1.000228\n",
      " 1.0001196  1.0001949  0.9999707  1.0000937  0.9998475  1.0001025\n",
      " 1.0001973  1.0000616  1.0002708  1.0001694  1.0002897  1.0003047\n",
      " 1.0002209  0.9998561  1.0001587  0.99960893 1.000102   0.99990696\n",
      " 1.0002728  1.0001309  1.0003136  0.9999717  1.0000839  0.99993074\n",
      " 1.0003147  1.0001919  1.0002981  1.000253   1.0002688  0.99974704\n",
      " 0.9999752  0.9999147  1.000315   1.0003093  1.0002595  1.0002561\n",
      " 1.0003123  0.9999654  1.0002167  0.9998441  1.0001589  1.0000939\n",
      " 1.0001879  1.0001584  1.0000107  1.000161   1.0001644  1.0001525\n",
      " 1.0000855  1.0003147  0.99995446 1.0001389  1.0002956  1.0003023\n",
      " 0.9998886  1.0002587  1.0001309  1.0002992  1.0000691  1.0000602\n",
      " 1.0001051  1.0002608  1.0002111  1.000116   1.0000461  1.0002398\n",
      " 0.9999358  1.0000654 ]\n"
     ]
    }
   ],
   "source": [
    "normalized_flux = flux_filtered/average_flux_filtered\n",
    "print(normalized_flux)"
   ]
  },
  {
   "cell_type": "code",
   "execution_count": 13,
   "id": "35a645af",
   "metadata": {},
   "outputs": [
    {
     "name": "stdout",
     "output_type": "stream",
     "text": [
      "[0.9961231  0.9972691  0.99787796 0.9999132  1.0015774  1.0018226\n",
      " 1.0018427  1.001641   1.0013005  1.0008458  0.99922925 0.9973141\n",
      " 0.9970042  0.99684364 0.9964751  0.9959168  0.996016   0.99613535\n",
      " 0.99673146 0.9969723  0.99835163 0.9984212  0.9987558  0.9988792\n",
      " 0.9988799  0.9989889  0.99886066 1.0002311  0.9996792  1.0000142\n",
      " 1.0026429  1.0016018  1.0015203  1.0021839  1.0025976  1.0027422\n",
      " 1.0039502  1.0039219  1.0041578  1.0037673  1.0036803  1.0032693\n",
      " 1.0027502  1.0012407  1.0003186  0.999235   0.9985279  0.9979092\n",
      " 0.9984036  0.9987422  0.999511   1.0000637  1.0003371  1.0025717\n",
      " 1.0036521  1.0038804  1.0034075  1.0031408  1.0023683  1.0015949\n",
      " 1.0010984  1.0006194  1.0003134  1.0001829  0.9999603  0.99976206\n",
      " 0.9994527  0.9991748  0.998847   0.99866325 0.99849635 0.99837214\n",
      " 1.0007038  1.000914   1.0009114  1.0015125  1.001353   1.0018768\n",
      " 1.0018412  1.00236    1.0026634  1.003202   1.0041378  1.0034242\n",
      " 1.0033995  1.0036472  1.0036852  1.0035563  1.0035741  1.0027987\n",
      " 1.0026546  1.0024153  1.0010859  1.0004438  0.9998111  1.0009669\n",
      " 1.0002835  1.0011548  1.0012535  1.0017773  1.0024118  1.0032767\n",
      " 1.0032489  1.0031669  1.0031087  1.0031499  1.0030063  1.0027534\n",
      " 1.0014335  1.0013938  1.0011715  1.0012854  1.0012501  1.0012289\n",
      " 1.0011245  1.0013843  1.00139    1.00167    1.0017672  1.0013646\n",
      " 1.0014944  1.0011452  1.0009097  1.0007402  1.0005566  1.0005187\n",
      " 1.0002981  1.0000738  0.9996714  0.99968237 0.99954563 0.9999373\n",
      " 1.0006778  1.0022699  1.0032631  1.0035306  1.0034456  1.0030732\n",
      " 1.0024465  1.0015999  1.0000277  0.99933386 0.99930197 0.9988364\n",
      " 0.9987786  0.99902135 0.99919206 0.99928296 0.99994653 1.0001209\n",
      " 1.0016316  1.001988   1.0006207  1.000499   1.0001377  0.99978054\n",
      " 0.99973345 0.9994912  0.99886066 0.9985615  0.9986074  0.9985446\n",
      " 0.9989948  0.99914867 0.99946934 0.9996489  0.9996904  0.99949366\n",
      " 0.99940026 0.9992987  0.99917823 0.9991768  0.998924   0.9990298\n",
      " 0.9991815  0.99908113 0.99911135 0.9992856  0.9993115  0.99947846\n",
      " 0.9994246  0.99943614 0.9993     0.99911165 0.9997439  0.99941516\n",
      " 0.99931675 0.9992725  0.9991064  0.9991434  0.9990176  0.99860454\n",
      " 0.99842703 0.9980476  0.9985489  0.9989607  0.99899876 0.9995718\n",
      " 0.9998554  1.0002502  1.0004508  1.0005274  1.0004493  1.0007954\n",
      " 1.0010961  1.0010583  1.0006955  1.0009084  1.0005124  1.0002872\n",
      " 1.0001997  0.99989563 0.99873096 0.99828726 0.99799234 0.997249\n",
      " 0.9967444  0.99664366 0.9966958  0.9964299  0.99663204 0.9964129\n",
      " 0.99663675 0.99662364 0.9966813  0.99679446 0.9970113  0.99714017\n",
      " 0.9969485  0.997558   0.99759096 0.99781394 0.9980067  0.9981023\n",
      " 0.99901086 0.9989516  0.99956816 0.9995288  0.9996791  1.0000981\n",
      " 1.0000967  1.0003304  1.0001333  1.0000662  1.0004369  0.9998082\n",
      " 0.99959326 0.99943095 0.99935377 0.99938834 0.9993622  0.9995494\n",
      " 0.99994427 0.9999128  1.0007544  1.0010779  1.0012738  1.0012866\n",
      " 1.0015242  1.0016048  1.0029539  1.0016294  1.0017039  1.001665\n",
      " 1.0018485  1.0010965  1.0008467  1.0004514  1.0000138  0.99957865\n",
      " 0.9995918  0.99942607 0.9993286  0.9991783  0.99894506 0.99887604\n",
      " 0.99889094 0.9984574  0.99891853 0.99807    0.9980755  0.99780977\n",
      " 0.99779886 0.9978066  0.99782485 0.9983656  0.9983597  0.9986203\n",
      " 0.9987994  0.99967265 0.9998182  0.99996626 1.0002831  0.99991274\n",
      " 0.999736   0.9997616  0.9993964  0.99935657 0.9989764  0.9979206\n",
      " 0.99785024 0.99676454 0.99676037 0.9968627  0.9968753  0.99780357\n",
      " 0.99783814 0.9979816 ]\n"
     ]
    }
   ],
   "source": [
    "normalized_standard_deviation = flux_err_filtered/standard_deviation_flux_filtered\n",
    "print(normalized_standard_deviation)"
   ]
  },
  {
   "cell_type": "code",
   "execution_count": 14,
   "id": "4fa2bc8d",
   "metadata": {},
   "outputs": [
    {
     "data": {
      "text/plain": [
       "<ErrorbarContainer object of 3 artists>"
      ]
     },
     "execution_count": 14,
     "metadata": {},
     "output_type": "execute_result"
    },
    {
     "data": {
      "image/png": "[encoded data removed]",
      "text/plain": [
       "<Figure size 640x480 with 1 Axes>"
      ]
     },
     "metadata": {},
     "output_type": "display_data"
    }
   ],
   "source": [
    "plt.errorbar(time_filtered, flux_filtered, yerr=flux_err_filtered, label='Observed Data', fmt='.')"
   ]
  },
  {
   "cell_type": "code",
   "execution_count": 15,
   "id": "7f4f3ee4",
   "metadata": {},
   "outputs": [],
   "source": [
    "# Simpsons integral approximation\n",
    "\"\"\"\n",
    "This function takes the following imputs:\n",
    "f: the integrand\n",
    "x0: lower limit of integral\n",
    "xn: upper limit of integral\n",
    "n: number of different subintervals\n",
    "\n",
    "delta_x: the width of each subinterval\n",
    "\n",
    "This function uses parabolas to create an approximation of an integral\n",
    "\"\"\"\n",
    "def approximate_int_simpsons(f, x0, xn, n):\n",
    "    delta_x = (xn - x0) / n\n",
    "    simpsons_approx = 0\n",
    "    \n",
    "    for i in range(n):\n",
    "        xi = x0 + i * delta_x\n",
    "        xi1 = x0 + (i + 1) * delta_x\n",
    "        simpsons_approx += (f(xi) +  4*f((xi + xi1) / 2) + f(xi1)) * delta_x / 6\n",
    "        \n",
    "    return simpsons_approx\n"
   ]
  },
  {
   "cell_type": "code",
   "execution_count": 16,
   "id": "92307016",
   "metadata": {},
   "outputs": [],
   "source": [
    "def lambda_function(p, z):\n",
    "    if 1 + p < z:\n",
    "        y = 0\n",
    "    elif math.fabs(1-p) < z and z <= 1 + p:\n",
    "        k0 = math.acos((p**2+z**2-1)/(2*p*z))\n",
    "        k1 = math.acos((1-p**2+z**2)/(2*z))\n",
    "        y = (p**2 * k0 + k1 - math.sqrt((4*z**2 - (1+z**2-p**2)**2)/4))/math.pi\n",
    "    elif z <= 1-p:\n",
    "        y = p**2\n",
    "    elif z <= p-1:\n",
    "        y = 1\n",
    "\n",
    "    return y\n",
    "\n",
    "def flux_function(p, z):\n",
    "    return 1 - lambda_function(p, math.fabs(z))"
   ]
  },
  {
   "cell_type": "code",
   "execution_count": 2,
   "id": "a07ebc31",
   "metadata": {},
   "outputs": [],
   "source": [
    "# Function calculate F_theoretical\n",
    "def calculate_F_theoretical(p, t0, tau, time_filtered, average_flux_filtered):\n",
    "    z = (time_filtered - t0) / tau\n",
    "    u = lambda r: (1 - r**2)**0.5\n",
    "    calc_i = lambda r: u(r)**0.5\n",
    "    \n",
    "    def integrand_numerator(r):\n",
    "        return np.array([calc_i(r) * flux_function(p, z_val) * 2 * r for z_val in z])\n",
    "    \n",
    "    def integrand_denominator(r):\n",
    "        return np.array([calc_i(r) * 2 * r for _ in z])\n",
    "    \n",
    "    numerator = np.array([approximate_int_simpsons(lambda r: integrand_numerator(r)[i], 0, 1, 100) for i in range(len(z))])\n",
    "    denominator = np.array([approximate_int_simpsons(lambda r: integrand_denominator(r)[i], 0, 1, 100) for i in range(len(z))])\n",
    "\n",
    "    F_theoretical = numerator / denominator\n",
    "    F_theoretical *= average_flux_filtered\n",
    "\n",
    "    return F_theoretical\n",
    "    "
   ]
  },
  {
   "cell_type": "code",
   "execution_count": 17,
   "id": "46286e95",
   "metadata": {},
   "outputs": [
    {
     "name": "stdout",
     "output_type": "stream",
     "text": [
      "[106527.5546875  106527.5546875  106527.5546875  106527.5546875\n",
      " 106527.5546875  106527.5546875  106527.5546875  106527.5546875\n",
      " 106527.5546875  106527.5546875  106527.5546875  106527.5546875\n",
      " 106527.5546875  106527.5546875  106527.5546875  106527.5546875\n",
      " 106527.5546875  106527.5546875  106527.5546875  106527.5546875\n",
      " 106527.5546875  106527.5546875  106527.5546875  106527.5546875\n",
      " 106527.5546875  106527.5546875  106527.5546875  106527.5546875\n",
      " 106527.5546875  106527.5546875  106527.5546875  106527.5546875\n",
      " 106527.5546875  106527.5546875  106527.5546875  106527.5546875\n",
      " 106527.5546875  106527.5546875  106527.5546875  106527.5546875\n",
      " 106527.5546875  106527.5546875  106527.5546875  106527.5546875\n",
      " 106527.5546875  106527.5546875  106527.5546875  106527.5546875\n",
      " 106527.5546875  106527.5546875  106527.5546875  106527.5546875\n",
      " 106527.5546875  106527.5546875  106527.5546875  106527.5546875\n",
      " 106527.5546875  106527.5546875  106527.5546875  106527.5546875\n",
      " 106501.22673968 106454.51820343 106426.72014575 106396.72586198\n",
      " 106364.96872558 106331.8057731  106297.55355844 106262.52413941\n",
      " 106226.98441372 106155.48651019 106120.09195292 106085.31778238\n",
      " 106104.95459763 106140.11610298 106175.73772798 106211.52125758\n",
      " 106247.19922678 106282.48631059 106317.10933686 106350.77406669\n",
      " 106383.18566879 106492.35171141 106511.55716536 106524.96979762\n",
      " 106527.5546875  106527.5546875  106527.5546875  106527.5546875\n",
      " 106527.5546875  106527.5546875  106527.5546875  106527.5546875\n",
      " 106527.5546875  106527.5546875  106527.5546875  106527.5546875\n",
      " 106527.5546875  106527.5546875  106527.5546875  106527.5546875\n",
      " 106527.5546875  106527.5546875  106527.5546875  106527.5546875\n",
      " 106527.5546875  106527.5546875  106527.5546875  106527.5546875\n",
      " 106527.5546875  106527.5546875  106527.5546875  106527.5546875\n",
      " 106527.5546875  106527.5546875  106527.5546875  106527.5546875\n",
      " 106527.5546875  106527.5546875  106527.5546875  106527.5546875\n",
      " 106527.5546875  106527.5546875  106527.5546875  106527.5546875\n",
      " 106527.5546875  106527.5546875  106527.5546875  106527.5546875\n",
      " 106527.5546875  106527.5546875  106527.5546875  106527.5546875\n",
      " 106527.5546875  106527.5546875  106527.5546875  106527.5546875\n",
      " 106527.5546875  106527.5546875  106527.5546875  106527.5546875\n",
      " 106527.5546875  106527.5546875  106527.5546875  106527.5546875\n",
      " 106527.5546875  106527.5546875  106527.5546875  106527.5546875\n",
      " 106527.5546875  106527.5546875  106527.5546875  106527.5546875\n",
      " 106527.5546875  106527.5546875  106527.5546875  106527.5546875\n",
      " 106527.5546875  106527.5546875  106527.5546875  106527.5546875\n",
      " 106527.5546875  106527.5546875  106527.5546875  106527.5546875\n",
      " 106527.5546875  106527.5546875  106527.5546875  106527.5546875\n",
      " 106527.5546875  106527.5546875  106527.5546875  106527.5546875\n",
      " 106527.5546875  106527.5546875  106527.5546875  106527.5546875\n",
      " 106527.5546875  106527.5546875  106527.5546875  106527.5546875\n",
      " 106527.5546875  106527.5546875  106527.5546875  106527.5546875\n",
      " 106527.5546875  106527.5546875  106527.5546875  106527.5546875\n",
      " 106527.5546875  106527.5546875  106527.5546875  106527.5546875\n",
      " 106527.5546875  106527.5546875  106527.5546875  106527.5546875\n",
      " 106527.5546875  106527.5546875  106527.5546875  106527.5546875\n",
      " 106527.5546875  106527.5546875  106527.5546875  106527.5546875\n",
      " 106527.5546875  106527.5546875  106527.5546875  106527.5546875\n",
      " 106527.5546875  106527.5546875  106527.5546875  106527.5546875\n",
      " 106527.5546875  106527.5546875  106527.5546875  106527.5546875\n",
      " 106527.5546875  106527.5546875  106527.5546875  106527.5546875\n",
      " 106527.5546875  106527.5546875  106527.5546875  106527.5546875\n",
      " 106527.5546875  106527.5546875  106527.5546875  106527.5546875\n",
      " 106527.5546875  106527.5546875  106527.5546875  106527.5546875\n",
      " 106527.5546875  106527.5546875  106527.5546875  106527.5546875\n",
      " 106527.5546875  106527.5546875  106527.5546875  106527.5546875\n",
      " 106527.5546875  106527.5546875  106527.5546875  106527.5546875\n",
      " 106527.5546875  106527.5546875  106527.5546875  106527.5546875\n",
      " 106527.5546875  106527.5546875  106527.5546875  106527.5546875\n",
      " 106527.5546875  106527.5546875  106527.5546875  106527.5546875\n",
      " 106527.5546875  106527.5546875  106527.5546875  106527.5546875\n",
      " 106527.5546875  106527.5546875  106527.5546875  106527.5546875\n",
      " 106527.5546875  106527.5546875  106527.5546875  106527.5546875\n",
      " 106527.5546875  106527.5546875  106527.5546875  106527.5546875\n",
      " 106527.5546875  106527.5546875  106527.5546875  106527.5546875\n",
      " 106527.5546875  106527.5546875  106527.5546875  106527.5546875\n",
      " 106527.5546875  106527.5546875  106527.5546875  106527.5546875\n",
      " 106527.5546875  106527.5546875  106527.5546875  106527.5546875\n",
      " 106527.5546875  106527.5546875  106527.5546875  106527.5546875\n",
      " 106527.5546875  106527.5546875  106527.5546875  106527.5546875\n",
      " 106527.5546875  106527.5546875  106527.5546875  106527.5546875\n",
      " 106527.5546875  106527.5546875  106527.5546875  106527.5546875\n",
      " 106527.5546875  106527.5546875  106527.5546875  106527.5546875 ]\n"
     ]
    }
   ],
   "source": [
    "p = 0.0775\n",
    "t0 = 261.3\n",
    "tau = 0.1\n",
    "z = (time_filtered-t0)/tau\n",
    "u = lambda r: (1 - r**2)**0.5\n",
    "calc_i = lambda r: u(r)**0.5\n",
    "\n",
    "    \n",
    "# Function has an integral in both the numerator and denominator, so they will be computed indidual\n",
    "def integrand_numerator(r):\n",
    "    result = np.array([calc_i(r) * flux_function(p, z_val) * 2 * r for z_val in z])\n",
    "    return result\n",
    "\n",
    "numerator =([approximate_int_simpsons(lambda r: integrand_numerator(r)[i], 0, 1, 100) for i in range(len(z))])\n",
    "\n",
    "def integrand_denominator(r):\n",
    "    result1 = np.array([calc_i(r) * 2 * r for z_val in z])\n",
    "    return result1\n",
    "\n",
    "denominator = ([approximate_int_simpsons(lambda r: integrand_denominator(r)[i], 0, 1, 100) for i in range(len(z))])\n",
    "\n",
    "unobscured_flux = average_flux_filtered\n",
    "\n",
    "numerator = np.array(numerator)\n",
    "denominator = np.array(denominator)\n",
    "F_theoretical = numerator / denominator\n",
    "\n",
    "F_theoretical *= unobscured_flux\n",
    "\n",
    "print (F_theoretical)\n",
    "\n"
   ]
  },
  {
   "cell_type": "code",
   "execution_count": 18,
   "id": "eb999ec7",
   "metadata": {
    "scrolled": true
   },
   "outputs": [
    {
     "name": "stdout",
     "output_type": "stream",
     "text": [
      "358.3995806642939\n"
     ]
    }
   ],
   "source": [
    "# Compute chi squared\n",
    "chi_squared = np.sum(((flux_filtered - F_theoretical)/flux_err_filtered)**2)\n",
    "print (chi_squared)"
   ]
  },
  {
   "cell_type": "code",
   "execution_count": 19,
   "id": "13e057bb",
   "metadata": {},
   "outputs": [
    {
     "data": {
      "image/png": "[encoded data removed]",
      "text/plain": [
       "<Figure size 640x480 with 1 Axes>"
      ]
     },
     "metadata": {},
     "output_type": "display_data"
    }
   ],
   "source": [
    "# Problem 2\n",
    "\n",
    "#Plotting observed vs theoretical data\n",
    "plt.figure\n",
    "plt.errorbar(time_filtered, flux_filtered, yerr=flux_err_filtered, label='Observed Data', fmt='.')\n",
    "plt.plot(time_filtered, F_theoretical, label='Theoretical Light curve', color='red')\n",
    "plt.xlabel('Time')\n",
    "plt.ylabel('Flux')\n",
    "plt.title('Comparison of Observed Data with Theoretical Light Curve')\n",
    "plt.legend()\n",
    "plt.grid(True)\n",
    "plt.show()"
   ]
  },
  {
   "cell_type": "code",
   "execution_count": null,
   "id": "7bdad981",
   "metadata": {},
   "outputs": [],
   "source": [
    "\"\"\"\n",
    "I would say that this is a very good fit. Although there is a gap in the observed data, in which the theretical is predicted. \n",
    "But the area outside the gapmatches very well.\n",
    "\"\"\""
   ]
  },
  {
   "cell_type": "code",
   "execution_count": 20,
   "id": "c2168bba",
   "metadata": {},
   "outputs": [
    {
     "name": "stdout",
     "output_type": "stream",
     "text": [
      "0.01903824310119029\n"
     ]
    }
   ],
   "source": [
    "# Compute liklihood of chi-squared value \n",
    "N = len(time_filtered)\n",
    "M = 3\n",
    "nu = N - M\n",
    "\n",
    "p_value = 1 - gammainc(nu / 2, chi_squared / 2)\n",
    "print (p_value)"
   ]
  },
  {
   "cell_type": "code",
   "execution_count": null,
   "id": "3feaba91",
   "metadata": {},
   "outputs": [],
   "source": [
    "\"\"\"\n",
    "This is a very low p value and indicates that the fit is not good.\n",
    "\"\"\""
   ]
  },
  {
   "cell_type": "code",
   "execution_count": 21,
   "id": "8e904a74",
   "metadata": {},
   "outputs": [],
   "source": [
    "# Function calculate F_theoretical\n",
    "def calculate_F_theoretical(p, t0, tau, time_filtered, average_flux_filtered):\n",
    "    z = (time_filtered - t0) / tau\n",
    "    u = lambda r: (1 - r**2)**0.5\n",
    "    calc_i = lambda r: u(r)**0.5\n",
    "    \n",
    "    def integrand_numerator(r):\n",
    "        return np.array([calc_i(r) * flux_function(p, z_val) * 2 * r for z_val in z])\n",
    "    \n",
    "    def integrand_denominator(r):\n",
    "        return np.array([calc_i(r) * 2 * r for _ in z])\n",
    "    \n",
    "    numerator = np.array([approximate_int_simpsons(lambda r: integrand_numerator(r)[i], 0, 1, 100) for i in range(len(z))])\n",
    "    denominator = np.array([approximate_int_simpsons(lambda r: integrand_denominator(r)[i], 0, 1, 100) for i in range(len(z))])\n",
    "\n",
    "    F_theoretical = numerator / denominator\n",
    "    F_theoretical *= average_flux_filtered\n",
    "\n",
    "    return F_theoretical\n",
    "    "
   ]
  },
  {
   "cell_type": "code",
   "execution_count": 23,
   "id": "488c74ed",
   "metadata": {},
   "outputs": [
    {
     "name": "stdout",
     "output_type": "stream",
     "text": [
      "Best fitting tau: 0.08\n",
      "Minimum chi-squared: 146.15162206207634\n"
     ]
    }
   ],
   "source": [
    "# Problem 3\n",
    "tau_values = np.arange(0.08, 0.13, 0.01)\n",
    "\n",
    "best_tau = None\n",
    "min_chi_squared = np.inf\n",
    "\n",
    "tau_values = np.arange(0.08, 0.13, 0.01)\n",
    "\n",
    "for tau in tau_values:\n",
    "    F_theoretical = calculate_F_theoretical(p, t0, tau, time_filtered, average_flux_filtered)\n",
    "    \n",
    "    chi_squared = np.sum(((flux_filtered - F_theoretical) / flux_err_filtered) ** 2)\n",
    "    \n",
    "    # Check if it is the lowest chi-squared \n",
    "    if chi_squared < min_chi_squared:\n",
    "        min_chi_squared = chi_squared\n",
    "        best_tau = tau\n",
    "\n",
    "print(\"Best fitting tau:\", best_tau)\n",
    "print(\"Minimum chi-squared:\", min_chi_squared)\n"
   ]
  },
  {
   "cell_type": "code",
   "execution_count": 24,
   "id": "9c29cbc7",
   "metadata": {},
   "outputs": [],
   "source": [
    "# Plot \n",
    "F_theoretical_best_fit = calculate_F_theoretical(p, t0, 0.08, time_filtered, average_flux_filtered)"
   ]
  },
  {
   "cell_type": "code",
   "execution_count": 26,
   "id": "c835f413",
   "metadata": {},
   "outputs": [
    {
     "data": {
      "image/png": "[encoded data removed]",
      "text/plain": [
       "<Figure size 640x480 with 1 Axes>"
      ]
     },
     "metadata": {},
     "output_type": "display_data"
    }
   ],
   "source": [
    "plt.figure\n",
    "plt.errorbar(time_filtered, flux_filtered, yerr=flux_err_filtered, label='Observed Data', fmt='.')\n",
    "plt.plot(time_filtered, F_theoretical_best_fit, label='Theoretical Light curve', color='red')\n",
    "plt.xlabel('Time')\n",
    "plt.ylabel('Flux')\n",
    "plt.title('Comparison of Observed Data with Theoretical Light Curve')\n",
    "plt.legend()\n",
    "plt.grid(True)\n",
    "plt.show()"
   ]
  }
 ],
 "metadata": {
  "kernelspec": {
   "display_name": "Python 3 (ipykernel)",
   "language": "python",
   "name": "python3"
  },
  "language_info": {
   "codemirror_mode": {
    "name": "ipython",
    "version": 3
   },
   "file_extension": ".py",
   "mimetype": "text/x-python",
   "name": "python",
   "nbconvert_exporter": "python",
   "pygments_lexer": "ipython3",
   "version": "3.9.13"
  }
 },
 "nbformat": 4,
 "nbformat_minor": 5
}
