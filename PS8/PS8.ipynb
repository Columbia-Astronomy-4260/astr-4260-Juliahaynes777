{
 "cells": [
  {
   "cell_type": "code",
   "execution_count": 14,
   "id": "68fa1424",
   "metadata": {},
   "outputs": [],
   "source": [
    "# PS8"
   ]
  },
  {
   "cell_type": "code",
   "execution_count": 81,
   "id": "8358e263",
   "metadata": {},
   "outputs": [
    {
     "name": "stdout",
     "output_type": "stream",
     "text": [
      "Accuracy: 0.99 (+/- 0.00)\n",
      "[[92415   243]\n",
      " [  236   247]]\n",
      "Accuracy: 0.99 (+/- 0.00)\n",
      "[[92449   209]\n",
      " [  246   237]]\n"
     ]
    }
   ],
   "source": [
    "# Problem 1\n",
    "# Using a decision tree classifier to predict Y given X\n",
    "clf = DecisionTreeClassifier()\n",
    "clf.fit(X, Y)\n",
    "# 5-fold validation to compute acuuracy of prediction\n",
    "scores = cross_val_score(clf, X, Y, cv=5) \n",
    "print(\"Accuracy: %0.2f (+/- %0.2f)\" % (scores.mean(), scores.std() * 2))\n",
    "\n",
    "# Creating a truth matrix\n",
    "y_pred = cross_val_predict(clf, X, Y, cv=5)\n",
    "conf_matrix = confusion_matrix(Y, y_pred)\n",
    "print(conf_matrix)\n",
    "\n",
    "# Adjusting class weight \n",
    "clf2 = DecisionTreeClassifier(class_weight = 'balanced')\n",
    "clf.fit(X, Y)\n",
    "# 5 fold validation score\n",
    "scores2 = cross_val_score(clf2, X, Y, cv=5)\n",
    "print(\"Accuracy: %0.2f (+/- %0.2f)\" % (scores.mean(), scores.std() * 2))\n",
    "y_pred2 = cross_val_predict(clf2, X, Y, cv=5)\n",
    "conf_matrix2 = confusion_matrix(Y, y_pred2)\n",
    "print(conf_matrix2)\n",
    "\n",
    "# Results\n",
    "print('FN' ,((264-204)/264)*100, '% less')\n",
    "print('TN' ,((247-237)/237)*100, '% less')\n",
    "print('TP' ,((92454-92394)/92394)*100, '% more')\n",
    "print('FP' ,((246-236)/236)*100, '% more')\n",
    "print('RR Lyrae detection rate' , (237/(204+237)))\n",
    "\"\"\"\n",
    "Adjusting the class weight to being balanced reduced the number of false negatives by 22.7% and\n",
    "reduced the number of true negatives by 4.2%. The number of true positives also increased by.065% and \n",
    "the number of false positives also increased by 4.2%.\n",
    "Overall this is more accurate, because the number of false negatives was reduced by 22.7%, resulting in a \n",
    "53% detection rate of RR Lyrae stars.\n",
    "\n",
    "\"\"\""
   ]
  },
  {
   "cell_type": "code",
   "execution_count": 2,
   "id": "b930ec5c",
   "metadata": {},
   "outputs": [],
   "source": [
    "# Imports \n",
    "import numpy as np\n",
    "import matplotlib.pyplot as plt\n",
    "from sklearn.tree import DecisionTreeClassifier\n",
    "from sklearn.model_selection import cross_val_score\n",
    "from sklearn.model_selection import train_test_split\n",
    "from sklearn.model_selection import cross_val_predict\n",
    "from sklearn.metrics import confusion_matrix, plot_confusion_matrix"
   ]
  },
  {
   "cell_type": "code",
   "execution_count": 3,
   "id": "45318e37",
   "metadata": {},
   "outputs": [],
   "source": [
    "# Read given data\n",
    "def read_data(name):\n",
    "    X = np.genfromtxt(name + '_features.txt', delimiter=',')\n",
    "    Y = np.genfromtxt(name + '_labels.txt')\n",
    "    return X, Y\n",
    "\n",
    "name = \"RRLyrae\"\n",
    "X, Y = read_data(name)"
   ]
  },
  {
   "cell_type": "code",
   "execution_count": 4,
   "id": "3234bbc3",
   "metadata": {},
   "outputs": [],
   "source": [
    "# Problem 1\n",
    "def decision_tree_RRLyrae(X, Y, clf):\n",
    "    clf.fit(X, Y)\n",
    "    # 5-fold validation to compute acuuracy of prediction\n",
    "    scores = cross_val_score(clf, X, Y, cv=5) \n",
    "    print(\"Accuracy: %0.2f (+/- %0.2f)\" % (scores.mean(), scores.std() * 2))\n",
    "    \n",
    "\"\"\"\n",
    "Truth Matrix format:\n",
    "[TP, FN]\n",
    "[FP, TN]\n",
    "\"\"\"   \n",
    "def truth_matrix_RRLyrae(clf):\n",
    "    y_pred = cross_val_predict(clf, X, Y, cv=5)\n",
    "    conf_matrix = confusion_matrix(Y, y_pred)\n",
    "    print(conf_matrix)\n",
    "    return conf_matrix\n",
    "    \n",
    "def decision_tree_results(matrix1, matrix2):\n",
    "    TP1 = matrix1[0][0]\n",
    "    FN1 = matrix1[0][1]\n",
    "    FP1 = matrix1[1][0]\n",
    "    TN1 = matrix1[1][1]\n",
    "\n",
    "    TP2 = matrix2[0][0]\n",
    "    FN2 = matrix2[0][1]\n",
    "    FP2 = matrix2[1][0]\n",
    "    TN2 = matrix2[1][1]\n",
    "\n",
    "    \n",
    "    print('FN' ,((FN2-FN1)/FN1)*100, '% change')\n",
    "    print('TN' ,((TN2-TN1)/TN1)*100, '% change')\n",
    "    print('TP' ,((TP2-TP1)/TP1)*100, '% change')\n",
    "    print('FP' ,((FP2-FP1)/FP1)*100, '% change')\n",
    "    print('RR Lyrae detection rate 1' ,((TN1/(FN1+TN1))))\n",
    "    print('RR Lyrae detection rate 2' ,((TN2/(FN2+TN2))))\n",
    "    print('RR Lyrae detection rate change' , (((TN2/(FN2+TN2)))-((TN1/(FN1+TN1))))*100, '% change')"
   ]
  },
  {
   "cell_type": "code",
   "execution_count": 19,
   "id": "e9f224b0",
   "metadata": {},
   "outputs": [],
   "source": [
    "def call_decision_tree_truth_matrix_results(clf, matrix_name, matrix1):\n",
    "    decision_tree_RRLyrae(X, Y, DecisionTreeClassifier(class_weight = 'balanced'))\n",
    "    matrix_name = truth_matrix_RRLyrae(DecisionTreeClassifier(class_weight = 'balanced'))\n",
    "    decision_tree_results(matrix1, matrix_name)\n",
    "    \n",
    "call_decision_tree_truth_matrix_results(DecisionTreeClassifier(class_weight = 'balanced'), truth_matrix_22, truth_matrix_1)"
   ]
  },
  {
   "cell_type": "code",
   "execution_count": 5,
   "id": "49857124",
   "metadata": {},
   "outputs": [
    {
     "name": "stdout",
     "output_type": "stream",
     "text": [
      "Accuracy: 0.99 (+/- 0.00)\n",
      "[[92410   248]\n",
      " [  236   247]]\n"
     ]
    }
   ],
   "source": [
    "# Accuracy and truth matrix for decision tree\n",
    "decision_tree_RRLyrae(X, Y, DecisionTreeClassifier())\n",
    "truth_matrix_1 = truth_matrix_RRLyrae(DecisionTreeClassifier())"
   ]
  },
  {
   "cell_type": "code",
   "execution_count": 6,
   "id": "e69b8d1e",
   "metadata": {},
   "outputs": [
    {
     "name": "stdout",
     "output_type": "stream",
     "text": [
      "Accuracy: 1.00 (+/- 0.00)\n",
      "[[92450   208]\n",
      " [  245   238]]\n",
      "FN -16.129032258064516 % change\n",
      "TN -3.643724696356275 % change\n",
      "TP 0.043285358727410454 % change\n",
      "FP 3.8135593220338984 % change\n",
      "RR Lyrae detection rate 1 0.498989898989899\n",
      "RR Lyrae detection rate 2 0.5336322869955157\n",
      "RR Lyrae detection rate change 3.4642388005616698 % change\n"
     ]
    }
   ],
   "source": [
    "# Accuracy and truth matrix for decision tree with weight class set to balanced\n",
    "decision_tree_RRLyrae(X, Y, DecisionTreeClassifier(class_weight = 'balanced'))\n",
    "truth_matrix_2 = truth_matrix_RRLyrae(DecisionTreeClassifier(class_weight = 'balanced'))\n",
    "decision_tree_results(truth_matrix_1, truth_matrix_2)"
   ]
  },
  {
   "cell_type": "code",
   "execution_count": 36,
   "id": "d9890ef0",
   "metadata": {},
   "outputs": [
    {
     "name": "stdout",
     "output_type": "stream",
     "text": [
      "0.48336594911937375\n"
     ]
    },
    {
     "data": {
      "text/plain": [
       "'\\nTruth Matrix format:\\n[TP, FN]\\n[FP, TN]\\n\\nOnly 1% of the data are RR lyrae stars. The negative, which coorelates to being RR Lyrae has only a 49.3% accuracy\\nas 255 were false negatives, while only 251 were true negatives.\\n\\n'"
      ]
     },
     "execution_count": 36,
     "metadata": {},
     "output_type": "execute_result"
    }
   ],
   "source": [
    "\"\"\"\n",
    "Setting the class weight to balanced is more accurate. It decreased the number of False negatives by 18%. \n",
    "Overall, the RR Lyrae detection rate has increased by 3.46%\n",
    "\"\"\""
   ]
  },
  {
   "cell_type": "code",
   "execution_count": null,
   "id": "d5c584b0",
   "metadata": {},
   "outputs": [],
   "source": [
    "\"\"\"\n",
    "In this case, we want detect as many RR Lyrae stars as possible, even if it means a higher false negative rate. \n",
    "The depth that gives the highest number of RR Lyrae detections is best.\n",
    "\"\"\""
   ]
  },
  {
   "cell_type": "code",
   "execution_count": 22,
   "id": "7fd5f3c9",
   "metadata": {},
   "outputs": [
    {
     "name": "stdout",
     "output_type": "stream",
     "text": [
      "Accuracy: 0.99 (+/- 0.00)\n",
      "[[92473   185]\n",
      " [  389    94]]\n",
      "FN -25.403225806451612 % change\n",
      "TN -61.943319838056674 % change\n",
      "TP 0.06817443999567147 % change\n",
      "FP 64.83050847457628 % change\n",
      "RR Lyrae detection rate 1 0.498989898989899\n",
      "RR Lyrae detection rate 2 0.33691756272401435\n",
      "RR Lyrae detection rate change -16.20723362658846 % change\n"
     ]
    }
   ],
   "source": [
    "# Accuracy and truth matrix for decision tree with max depth set to 3\n",
    "decision_tree_RRLyrae(X, Y, DecisionTreeClassifier(max_depth=3))\n",
    "truth_matrix_3 = truth_matrix_RRLyrae(DecisionTreeClassifier(max_depth=3))\n",
    "decision_tree_results(truth_matrix_1, truth_matrix_3)"
   ]
  },
  {
   "cell_type": "code",
   "execution_count": 23,
   "id": "37ba5921",
   "metadata": {},
   "outputs": [
    {
     "name": "stdout",
     "output_type": "stream",
     "text": [
      "Accuracy: 1.00 (+/- 0.00)\n",
      "[[92386   272]\n",
      " [  183   300]]\n",
      "FN 9.67741935483871 % change\n",
      "TN 21.45748987854251 % change\n",
      "TP -0.025971215236446275 % change\n",
      "FP -22.45762711864407 % change\n",
      "RR Lyrae detection rate 1 0.498989898989899\n",
      "RR Lyrae detection rate 2 0.5244755244755245\n",
      "RR Lyrae detection rate change 2.5485625485625496 % change\n"
     ]
    }
   ],
   "source": [
    "# Accuracy and truth matrix for decision tree with max depth set to 4\n",
    "decision_tree_RRLyrae(X, Y, DecisionTreeClassifier(max_depth=4))\n",
    "truth_matrix_4 = truth_matrix_RRLyrae(DecisionTreeClassifier(max_depth=4))\n",
    "decision_tree_results(truth_matrix_1, truth_matrix_4)"
   ]
  },
  {
   "cell_type": "code",
   "execution_count": 25,
   "id": "a9a10202",
   "metadata": {},
   "outputs": [
    {
     "name": "stdout",
     "output_type": "stream",
     "text": [
      "Accuracy: 1.00 (+/- 0.00)\n",
      "[[92439   219]\n",
      " [  198   285]]\n",
      "FN -11.693548387096774 % change\n",
      "TN 15.384615384615385 % change\n",
      "TP 0.03138188507737258 % change\n",
      "FP -16.101694915254235 % change\n",
      "RR Lyrae detection rate 1 0.498989898989899\n",
      "RR Lyrae detection rate 2 0.5654761904761905\n",
      "RR Lyrae detection rate change 6.648629148629148 % change\n"
     ]
    }
   ],
   "source": [
    "# Accuracy and truth matrix for decision tree with max depth set to 5\n",
    "decision_tree_RRLyrae(X, Y, DecisionTreeClassifier(max_depth=5))\n",
    "truth_matrix_5 = truth_matrix_RRLyrae(DecisionTreeClassifier(max_depth=5))\n",
    "decision_tree_results(truth_matrix_1, truth_matrix_5)"
   ]
  },
  {
   "cell_type": "code",
   "execution_count": null,
   "id": "a8fe9100",
   "metadata": {},
   "outputs": [],
   "source": [
    "\"\"\"\n",
    "Max depth 5 was the best, as it gave the highest rate of TN, accurately detected RR Lyrae. \n",
    "The FP rate was also the lowest.\n",
    "\"\"\""
   ]
  },
  {
   "cell_type": "code",
   "execution_count": 26,
   "id": "71ed37b8",
   "metadata": {},
   "outputs": [
    {
     "name": "stdout",
     "output_type": "stream",
     "text": [
      "Accuracy: 0.98 (+/- 0.01)\n",
      "[[90537  2121]\n",
      " [   26   457]]\n",
      "FN 755.241935483871 % change\n",
      "TN 85.02024291497976 % change\n",
      "TP -2.0268369224109946 % change\n",
      "FP -88.98305084745762 % change\n",
      "RR Lyrae detection rate 1 0.498989898989899\n",
      "RR Lyrae detection rate 2 0.17726920093095422\n",
      "RR Lyrae detection rate change -32.17206980589447 % change\n"
     ]
    }
   ],
   "source": [
    "# Accuracy and truth matrix for decision tree with max depth set to 5\n",
    "decision_tree_RRLyrae(X, Y, DecisionTreeClassifier(max_depth=5, class_weight='balanced'))\n",
    "truth_matrix_6 = truth_matrix_RRLyrae(DecisionTreeClassifier(max_depth=5, class_weight='balanced'))\n",
    "decision_tree_results(truth_matrix_1, truth_matrix_6)"
   ]
  }
 ],
 "metadata": {
  "kernelspec": {
   "display_name": "Python 3 (ipykernel)",
   "language": "python",
   "name": "python3"
  },
  "language_info": {
   "codemirror_mode": {
    "name": "ipython",
    "version": 3
   },
   "file_extension": ".py",
   "mimetype": "text/x-python",
   "name": "python",
   "nbconvert_exporter": "python",
   "pygments_lexer": "ipython3",
   "version": "3.9.13"
  }
 },
 "nbformat": 4,
 "nbformat_minor": 5
}
