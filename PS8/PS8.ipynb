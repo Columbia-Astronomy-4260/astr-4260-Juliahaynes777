{
 "cells": [
  {
   "cell_type": "code",
   "execution_count": null,
   "id": "8cc505e7",
   "metadata": {},
   "outputs": [],
   "source": [
    "# PS8"
   ]
  },
  {
   "cell_type": "code",
   "execution_count": 12,
   "id": "272e130b",
   "metadata": {},
   "outputs": [],
   "source": [
    "# Imports \n",
    "import numpy as np\n",
    "import matplotlib.pyplot as plt\n",
    "from sklearn.tree import DecisionTreeClassifier\n",
    "from sklearn.model_selection import cross_val_score\n",
    "from sklearn.model_selection import train_test_split\n",
    "from sklearn.model_selection import cross_val_predict\n",
    "from sklearn.metrics import confusion_matrix, plot_confusion_matrix"
   ]
  },
  {
   "cell_type": "code",
   "execution_count": 6,
   "id": "8a4cba03",
   "metadata": {},
   "outputs": [],
   "source": [
    "# Read given data\n",
    "def read_data(name):\n",
    "    X = np.genfromtxt(name + '_features.txt', delimiter=',')\n",
    "    Y = np.genfromtxt(name + '_labels.txt')\n",
    "    return X, Y\n",
    "\n",
    "name = \"RRLyrae\"\n",
    "X, Y = read_data(name)"
   ]
  },
  {
   "cell_type": "code",
   "execution_count": 10,
   "id": "24065425",
   "metadata": {},
   "outputs": [
    {
     "name": "stdout",
     "output_type": "stream",
     "text": [
      "Accuracy: 0.99 (+/- 0.00)\n"
     ]
    }
   ],
   "source": [
    "# Problem 1\n",
    "# Use a decision tree classifier to predict Y given X\n",
    "clf = DecisionTreeClassifier()\n",
    "clf.fit(X, Y)\n",
    "# 5-fold validation to compute acuuracy of prediction\n",
    "scores = cross_val_score(clf, X, Y, cv=5) \n",
    "print(\"Accuracy: %0.2f (+/- %0.2f)\" % (scores.mean(), scores.std() * 2))"
   ]
  },
  {
   "cell_type": "code",
   "execution_count": 13,
   "id": "e0dc5c33",
   "metadata": {},
   "outputs": [
    {
     "name": "stdout",
     "output_type": "stream",
     "text": [
      "[[92398   260]\n",
      " [  239   244]]\n"
     ]
    }
   ],
   "source": [
    "# Creating a truth matrix\n",
    "y_pred = cross_val_predict(clf, X, Y, cv=5)\n",
    "conf_matrix = confusion_matrix(Y, y_pred)\n",
    "print(conf_matrix)\n",
    "\"\"\"\n",
    "Analyze why this shows that it was innacurate\n",
    "\"\"\""
   ]
  },
  {
   "cell_type": "code",
   "execution_count": null,
   "id": "10f11a61",
   "metadata": {},
   "outputs": [],
   "source": [
    "# Adjusting maximum depth and class weight \n"
   ]
  }
 ],
 "metadata": {
  "kernelspec": {
   "display_name": "Python 3 (ipykernel)",
   "language": "python",
   "name": "python3"
  },
  "language_info": {
   "codemirror_mode": {
    "name": "ipython",
    "version": 3
   },
   "file_extension": ".py",
   "mimetype": "text/x-python",
   "name": "python",
   "nbconvert_exporter": "python",
   "pygments_lexer": "ipython3",
   "version": "3.9.13"
  }
 },
 "nbformat": 4,
 "nbformat_minor": 5
}
